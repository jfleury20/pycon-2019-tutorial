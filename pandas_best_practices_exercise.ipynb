{
 "cells": [
  {
   "cell_type": "code",
   "execution_count": 1,
   "metadata": {},
   "outputs": [],
   "source": [
    "import pandas as pd\n",
    "import matplotlib.pyplot as plt\n",
    "# only a jupyter command\n",
    "%matplotlib inline \n",
    "\n",
    "ted = pd.read_csv('ted.csv')"
   ]
  },
  {
   "cell_type": "code",
   "execution_count": 4,
   "metadata": {
    "scrolled": true
   },
   "outputs": [
    {
     "name": "stdout",
     "output_type": "stream",
     "text": [
      "(2550, 17) \n",
      "\n",
      "<class 'pandas.core.frame.DataFrame'>\n",
      "RangeIndex: 2550 entries, 0 to 2549\n",
      "Data columns (total 17 columns):\n",
      "comments              2550 non-null int64\n",
      "description           2550 non-null object\n",
      "duration              2550 non-null int64\n",
      "event                 2550 non-null object\n",
      "film_date             2550 non-null int64\n",
      "languages             2550 non-null int64\n",
      "main_speaker          2550 non-null object\n",
      "name                  2550 non-null object\n",
      "num_speaker           2550 non-null int64\n",
      "published_date        2550 non-null int64\n",
      "ratings               2550 non-null object\n",
      "related_talks         2550 non-null object\n",
      "speaker_occupation    2544 non-null object\n",
      "tags                  2550 non-null object\n",
      "title                 2550 non-null object\n",
      "url                   2550 non-null object\n",
      "views                 2550 non-null int64\n",
      "dtypes: int64(7), object(10)\n",
      "memory usage: 338.8+ KB\n",
      "None \n",
      "\n",
      "comments               int64\n",
      "description           object\n",
      "duration               int64\n",
      "event                 object\n",
      "film_date              int64\n",
      "languages              int64\n",
      "main_speaker          object\n",
      "name                  object\n",
      "num_speaker            int64\n",
      "published_date         int64\n",
      "ratings               object\n",
      "related_talks         object\n",
      "speaker_occupation    object\n",
      "tags                  object\n",
      "title                 object\n",
      "url                   object\n",
      "views                  int64\n",
      "dtype: object\n"
     ]
    },
    {
     "data": {
      "text/html": [
       "<div>\n",
       "<style scoped>\n",
       "    .dataframe tbody tr th:only-of-type {\n",
       "        vertical-align: middle;\n",
       "    }\n",
       "\n",
       "    .dataframe tbody tr th {\n",
       "        vertical-align: top;\n",
       "    }\n",
       "\n",
       "    .dataframe thead th {\n",
       "        text-align: right;\n",
       "    }\n",
       "</style>\n",
       "<table border=\"1\" class=\"dataframe\">\n",
       "  <thead>\n",
       "    <tr style=\"text-align: right;\">\n",
       "      <th></th>\n",
       "      <th>comments</th>\n",
       "      <th>description</th>\n",
       "      <th>duration</th>\n",
       "      <th>event</th>\n",
       "      <th>film_date</th>\n",
       "      <th>languages</th>\n",
       "      <th>main_speaker</th>\n",
       "      <th>name</th>\n",
       "      <th>num_speaker</th>\n",
       "      <th>published_date</th>\n",
       "      <th>ratings</th>\n",
       "      <th>related_talks</th>\n",
       "      <th>speaker_occupation</th>\n",
       "      <th>tags</th>\n",
       "      <th>title</th>\n",
       "      <th>url</th>\n",
       "      <th>views</th>\n",
       "    </tr>\n",
       "  </thead>\n",
       "  <tbody>\n",
       "    <tr>\n",
       "      <td>0</td>\n",
       "      <td>4553</td>\n",
       "      <td>Sir Ken Robinson makes an entertaining and pro...</td>\n",
       "      <td>1164</td>\n",
       "      <td>TED2006</td>\n",
       "      <td>1140825600</td>\n",
       "      <td>60</td>\n",
       "      <td>Ken Robinson</td>\n",
       "      <td>Ken Robinson: Do schools kill creativity?</td>\n",
       "      <td>1</td>\n",
       "      <td>1151367060</td>\n",
       "      <td>[{'id': 7, 'name': 'Funny', 'count': 19645}, {...</td>\n",
       "      <td>[{'id': 865, 'hero': 'https://pe.tedcdn.com/im...</td>\n",
       "      <td>Author/educator</td>\n",
       "      <td>['children', 'creativity', 'culture', 'dance',...</td>\n",
       "      <td>Do schools kill creativity?</td>\n",
       "      <td>https://www.ted.com/talks/ken_robinson_says_sc...</td>\n",
       "      <td>47227110</td>\n",
       "    </tr>\n",
       "    <tr>\n",
       "      <td>1</td>\n",
       "      <td>265</td>\n",
       "      <td>With the same humor and humanity he exuded in ...</td>\n",
       "      <td>977</td>\n",
       "      <td>TED2006</td>\n",
       "      <td>1140825600</td>\n",
       "      <td>43</td>\n",
       "      <td>Al Gore</td>\n",
       "      <td>Al Gore: Averting the climate crisis</td>\n",
       "      <td>1</td>\n",
       "      <td>1151367060</td>\n",
       "      <td>[{'id': 7, 'name': 'Funny', 'count': 544}, {'i...</td>\n",
       "      <td>[{'id': 243, 'hero': 'https://pe.tedcdn.com/im...</td>\n",
       "      <td>Climate advocate</td>\n",
       "      <td>['alternative energy', 'cars', 'climate change...</td>\n",
       "      <td>Averting the climate crisis</td>\n",
       "      <td>https://www.ted.com/talks/al_gore_on_averting_...</td>\n",
       "      <td>3200520</td>\n",
       "    </tr>\n",
       "    <tr>\n",
       "      <td>2</td>\n",
       "      <td>124</td>\n",
       "      <td>New York Times columnist David Pogue takes aim...</td>\n",
       "      <td>1286</td>\n",
       "      <td>TED2006</td>\n",
       "      <td>1140739200</td>\n",
       "      <td>26</td>\n",
       "      <td>David Pogue</td>\n",
       "      <td>David Pogue: Simplicity sells</td>\n",
       "      <td>1</td>\n",
       "      <td>1151367060</td>\n",
       "      <td>[{'id': 7, 'name': 'Funny', 'count': 964}, {'i...</td>\n",
       "      <td>[{'id': 1725, 'hero': 'https://pe.tedcdn.com/i...</td>\n",
       "      <td>Technology columnist</td>\n",
       "      <td>['computers', 'entertainment', 'interface desi...</td>\n",
       "      <td>Simplicity sells</td>\n",
       "      <td>https://www.ted.com/talks/david_pogue_says_sim...</td>\n",
       "      <td>1636292</td>\n",
       "    </tr>\n",
       "    <tr>\n",
       "      <td>3</td>\n",
       "      <td>200</td>\n",
       "      <td>In an emotionally charged talk, MacArthur-winn...</td>\n",
       "      <td>1116</td>\n",
       "      <td>TED2006</td>\n",
       "      <td>1140912000</td>\n",
       "      <td>35</td>\n",
       "      <td>Majora Carter</td>\n",
       "      <td>Majora Carter: Greening the ghetto</td>\n",
       "      <td>1</td>\n",
       "      <td>1151367060</td>\n",
       "      <td>[{'id': 3, 'name': 'Courageous', 'count': 760}...</td>\n",
       "      <td>[{'id': 1041, 'hero': 'https://pe.tedcdn.com/i...</td>\n",
       "      <td>Activist for environmental justice</td>\n",
       "      <td>['MacArthur grant', 'activism', 'business', 'c...</td>\n",
       "      <td>Greening the ghetto</td>\n",
       "      <td>https://www.ted.com/talks/majora_carter_s_tale...</td>\n",
       "      <td>1697550</td>\n",
       "    </tr>\n",
       "    <tr>\n",
       "      <td>4</td>\n",
       "      <td>593</td>\n",
       "      <td>You've never seen data presented like this. Wi...</td>\n",
       "      <td>1190</td>\n",
       "      <td>TED2006</td>\n",
       "      <td>1140566400</td>\n",
       "      <td>48</td>\n",
       "      <td>Hans Rosling</td>\n",
       "      <td>Hans Rosling: The best stats you've ever seen</td>\n",
       "      <td>1</td>\n",
       "      <td>1151440680</td>\n",
       "      <td>[{'id': 9, 'name': 'Ingenious', 'count': 3202}...</td>\n",
       "      <td>[{'id': 2056, 'hero': 'https://pe.tedcdn.com/i...</td>\n",
       "      <td>Global health expert; data visionary</td>\n",
       "      <td>['Africa', 'Asia', 'Google', 'demo', 'economic...</td>\n",
       "      <td>The best stats you've ever seen</td>\n",
       "      <td>https://www.ted.com/talks/hans_rosling_shows_t...</td>\n",
       "      <td>12005869</td>\n",
       "    </tr>\n",
       "  </tbody>\n",
       "</table>\n",
       "</div>"
      ],
      "text/plain": [
       "   comments                                        description  duration  \\\n",
       "0      4553  Sir Ken Robinson makes an entertaining and pro...      1164   \n",
       "1       265  With the same humor and humanity he exuded in ...       977   \n",
       "2       124  New York Times columnist David Pogue takes aim...      1286   \n",
       "3       200  In an emotionally charged talk, MacArthur-winn...      1116   \n",
       "4       593  You've never seen data presented like this. Wi...      1190   \n",
       "\n",
       "     event   film_date  languages   main_speaker  \\\n",
       "0  TED2006  1140825600         60   Ken Robinson   \n",
       "1  TED2006  1140825600         43        Al Gore   \n",
       "2  TED2006  1140739200         26    David Pogue   \n",
       "3  TED2006  1140912000         35  Majora Carter   \n",
       "4  TED2006  1140566400         48   Hans Rosling   \n",
       "\n",
       "                                            name  num_speaker  published_date  \\\n",
       "0      Ken Robinson: Do schools kill creativity?            1      1151367060   \n",
       "1           Al Gore: Averting the climate crisis            1      1151367060   \n",
       "2                  David Pogue: Simplicity sells            1      1151367060   \n",
       "3             Majora Carter: Greening the ghetto            1      1151367060   \n",
       "4  Hans Rosling: The best stats you've ever seen            1      1151440680   \n",
       "\n",
       "                                             ratings  \\\n",
       "0  [{'id': 7, 'name': 'Funny', 'count': 19645}, {...   \n",
       "1  [{'id': 7, 'name': 'Funny', 'count': 544}, {'i...   \n",
       "2  [{'id': 7, 'name': 'Funny', 'count': 964}, {'i...   \n",
       "3  [{'id': 3, 'name': 'Courageous', 'count': 760}...   \n",
       "4  [{'id': 9, 'name': 'Ingenious', 'count': 3202}...   \n",
       "\n",
       "                                       related_talks  \\\n",
       "0  [{'id': 865, 'hero': 'https://pe.tedcdn.com/im...   \n",
       "1  [{'id': 243, 'hero': 'https://pe.tedcdn.com/im...   \n",
       "2  [{'id': 1725, 'hero': 'https://pe.tedcdn.com/i...   \n",
       "3  [{'id': 1041, 'hero': 'https://pe.tedcdn.com/i...   \n",
       "4  [{'id': 2056, 'hero': 'https://pe.tedcdn.com/i...   \n",
       "\n",
       "                     speaker_occupation  \\\n",
       "0                       Author/educator   \n",
       "1                      Climate advocate   \n",
       "2                  Technology columnist   \n",
       "3    Activist for environmental justice   \n",
       "4  Global health expert; data visionary   \n",
       "\n",
       "                                                tags  \\\n",
       "0  ['children', 'creativity', 'culture', 'dance',...   \n",
       "1  ['alternative energy', 'cars', 'climate change...   \n",
       "2  ['computers', 'entertainment', 'interface desi...   \n",
       "3  ['MacArthur grant', 'activism', 'business', 'c...   \n",
       "4  ['Africa', 'Asia', 'Google', 'demo', 'economic...   \n",
       "\n",
       "                             title  \\\n",
       "0      Do schools kill creativity?   \n",
       "1      Averting the climate crisis   \n",
       "2                 Simplicity sells   \n",
       "3              Greening the ghetto   \n",
       "4  The best stats you've ever seen   \n",
       "\n",
       "                                                 url     views  \n",
       "0  https://www.ted.com/talks/ken_robinson_says_sc...  47227110  \n",
       "1  https://www.ted.com/talks/al_gore_on_averting_...   3200520  \n",
       "2  https://www.ted.com/talks/david_pogue_says_sim...   1636292  \n",
       "3  https://www.ted.com/talks/majora_carter_s_tale...   1697550  \n",
       "4  https://www.ted.com/talks/hans_rosling_shows_t...  12005869  "
      ]
     },
     "execution_count": 4,
     "metadata": {},
     "output_type": "execute_result"
    }
   ],
   "source": [
    "# descriptive stats\n",
    "print(ted.shape, \"\\n\")\n",
    "print(ted.info(), \"\\n\")\n",
    "print(ted.dtypes)\n",
    "# 'object' types usually mean strings, but also: lists, dictionaries\n",
    "ted.head()"
   ]
  },
  {
   "cell_type": "code",
   "execution_count": 16,
   "metadata": {
    "scrolled": false
   },
   "outputs": [
    {
     "data": {
      "text/plain": [
       "comments              0\n",
       "description           0\n",
       "duration              0\n",
       "event                 0\n",
       "film_date             0\n",
       "languages             0\n",
       "main_speaker          0\n",
       "name                  0\n",
       "num_speaker           0\n",
       "published_date        0\n",
       "ratings               0\n",
       "related_talks         0\n",
       "speaker_occupation    6\n",
       "tags                  0\n",
       "title                 0\n",
       "url                   0\n",
       "views                 0\n",
       "comments_per_view     0\n",
       "views_per_comment     0\n",
       "dtype: int64"
      ]
     },
     "execution_count": 16,
     "metadata": {},
     "output_type": "execute_result"
    }
   ],
   "source": [
    "ted.isna().sum()\n",
    "# checking for missing values\n",
    "# .sum defaults to summing across '0 axis' -> Y-axis\n",
    "\n",
    "# option to use .fillna(), .dropna() d"
   ]
  },
  {
   "attachments": {
    "image.png": {
     "image/png": "[encoded data removed]"
    }
   },
   "cell_type": "markdown",
   "metadata": {},
   "source": [
    "![image.png](attachment:image.png)"
   ]
  },
  {
   "cell_type": "code",
   "execution_count": 20,
   "metadata": {},
   "outputs": [
    {
     "data": {
      "text/html": [
       "<div>\n",
       "<style scoped>\n",
       "    .dataframe tbody tr th:only-of-type {\n",
       "        vertical-align: middle;\n",
       "    }\n",
       "\n",
       "    .dataframe tbody tr th {\n",
       "        vertical-align: top;\n",
       "    }\n",
       "\n",
       "    .dataframe thead th {\n",
       "        text-align: right;\n",
       "    }\n",
       "</style>\n",
       "<table border=\"1\" class=\"dataframe\">\n",
       "  <thead>\n",
       "    <tr style=\"text-align: right;\">\n",
       "      <th></th>\n",
       "      <th>comments</th>\n",
       "      <th>description</th>\n",
       "      <th>duration</th>\n",
       "      <th>event</th>\n",
       "      <th>film_date</th>\n",
       "      <th>languages</th>\n",
       "      <th>main_speaker</th>\n",
       "      <th>name</th>\n",
       "      <th>num_speaker</th>\n",
       "      <th>published_date</th>\n",
       "      <th>ratings</th>\n",
       "      <th>related_talks</th>\n",
       "      <th>speaker_occupation</th>\n",
       "      <th>tags</th>\n",
       "      <th>title</th>\n",
       "      <th>url</th>\n",
       "      <th>views</th>\n",
       "      <th>comments_per_view</th>\n",
       "      <th>views_per_comment</th>\n",
       "    </tr>\n",
       "  </thead>\n",
       "  <tbody>\n",
       "    <tr>\n",
       "      <td>1787</td>\n",
       "      <td>2673</td>\n",
       "      <td>Our consciousness is a fundamental aspect of o...</td>\n",
       "      <td>1117</td>\n",
       "      <td>TED2014</td>\n",
       "      <td>1395100800</td>\n",
       "      <td>33</td>\n",
       "      <td>David Chalmers</td>\n",
       "      <td>David Chalmers: How do you explain consciousness?</td>\n",
       "      <td>1</td>\n",
       "      <td>1405350484</td>\n",
       "      <td>[{'id': 25, 'name': 'OK', 'count': 280}, {'id'...</td>\n",
       "      <td>[{'id': 1308, 'hero': 'https://pe.tedcdn.com/i...</td>\n",
       "      <td>Philosopher</td>\n",
       "      <td>['brain', 'consciousness', 'neuroscience', 'ph...</td>\n",
       "      <td>How do you explain consciousness?</td>\n",
       "      <td>https://www.ted.com/talks/david_chalmers_how_d...</td>\n",
       "      <td>2162764</td>\n",
       "      <td>0.001236</td>\n",
       "      <td>809.114852</td>\n",
       "    </tr>\n",
       "    <tr>\n",
       "      <td>201</td>\n",
       "      <td>2877</td>\n",
       "      <td>Jill Bolte Taylor got a research opportunity f...</td>\n",
       "      <td>1099</td>\n",
       "      <td>TED2008</td>\n",
       "      <td>1204070400</td>\n",
       "      <td>49</td>\n",
       "      <td>Jill Bolte Taylor</td>\n",
       "      <td>Jill Bolte Taylor: My stroke of insight</td>\n",
       "      <td>1</td>\n",
       "      <td>1205284200</td>\n",
       "      <td>[{'id': 22, 'name': 'Fascinating', 'count': 14...</td>\n",
       "      <td>[{'id': 184, 'hero': 'https://pe.tedcdn.com/im...</td>\n",
       "      <td>Neuroanatomist</td>\n",
       "      <td>['biology', 'brain', 'consciousness', 'global ...</td>\n",
       "      <td>My stroke of insight</td>\n",
       "      <td>https://www.ted.com/talks/jill_bolte_taylor_s_...</td>\n",
       "      <td>21190883</td>\n",
       "      <td>0.000136</td>\n",
       "      <td>7365.618005</td>\n",
       "    </tr>\n",
       "    <tr>\n",
       "      <td>644</td>\n",
       "      <td>3356</td>\n",
       "      <td>Questions of good and evil, right and wrong ar...</td>\n",
       "      <td>1386</td>\n",
       "      <td>TED2010</td>\n",
       "      <td>1265846400</td>\n",
       "      <td>39</td>\n",
       "      <td>Sam Harris</td>\n",
       "      <td>Sam Harris: Science can answer moral questions</td>\n",
       "      <td>1</td>\n",
       "      <td>1269249180</td>\n",
       "      <td>[{'id': 8, 'name': 'Informative', 'count': 923...</td>\n",
       "      <td>[{'id': 666, 'hero': 'https://pe.tedcdn.com/im...</td>\n",
       "      <td>Neuroscientist, philosopher</td>\n",
       "      <td>['culture', 'evolutionary psychology', 'global...</td>\n",
       "      <td>Science can answer moral questions</td>\n",
       "      <td>https://www.ted.com/talks/sam_harris_science_c...</td>\n",
       "      <td>3433437</td>\n",
       "      <td>0.000977</td>\n",
       "      <td>1023.074195</td>\n",
       "    </tr>\n",
       "    <tr>\n",
       "      <td>0</td>\n",
       "      <td>4553</td>\n",
       "      <td>Sir Ken Robinson makes an entertaining and pro...</td>\n",
       "      <td>1164</td>\n",
       "      <td>TED2006</td>\n",
       "      <td>1140825600</td>\n",
       "      <td>60</td>\n",
       "      <td>Ken Robinson</td>\n",
       "      <td>Ken Robinson: Do schools kill creativity?</td>\n",
       "      <td>1</td>\n",
       "      <td>1151367060</td>\n",
       "      <td>[{'id': 7, 'name': 'Funny', 'count': 19645}, {...</td>\n",
       "      <td>[{'id': 865, 'hero': 'https://pe.tedcdn.com/im...</td>\n",
       "      <td>Author/educator</td>\n",
       "      <td>['children', 'creativity', 'culture', 'dance',...</td>\n",
       "      <td>Do schools kill creativity?</td>\n",
       "      <td>https://www.ted.com/talks/ken_robinson_says_sc...</td>\n",
       "      <td>47227110</td>\n",
       "      <td>0.000096</td>\n",
       "      <td>10372.745443</td>\n",
       "    </tr>\n",
       "    <tr>\n",
       "      <td>96</td>\n",
       "      <td>6404</td>\n",
       "      <td>Richard Dawkins urges all atheists to openly s...</td>\n",
       "      <td>1750</td>\n",
       "      <td>TED2002</td>\n",
       "      <td>1012608000</td>\n",
       "      <td>42</td>\n",
       "      <td>Richard Dawkins</td>\n",
       "      <td>Richard Dawkins: Militant atheism</td>\n",
       "      <td>1</td>\n",
       "      <td>1176689220</td>\n",
       "      <td>[{'id': 3, 'name': 'Courageous', 'count': 3236...</td>\n",
       "      <td>[{'id': 86, 'hero': 'https://pe.tedcdn.com/ima...</td>\n",
       "      <td>Evolutionary biologist</td>\n",
       "      <td>['God', 'atheism', 'culture', 'religion', 'sci...</td>\n",
       "      <td>Militant atheism</td>\n",
       "      <td>https://www.ted.com/talks/richard_dawkins_on_m...</td>\n",
       "      <td>4374792</td>\n",
       "      <td>0.001464</td>\n",
       "      <td>683.134291</td>\n",
       "    </tr>\n",
       "  </tbody>\n",
       "</table>\n",
       "</div>"
      ],
      "text/plain": [
       "      comments                                        description  duration  \\\n",
       "1787      2673  Our consciousness is a fundamental aspect of o...      1117   \n",
       "201       2877  Jill Bolte Taylor got a research opportunity f...      1099   \n",
       "644       3356  Questions of good and evil, right and wrong ar...      1386   \n",
       "0         4553  Sir Ken Robinson makes an entertaining and pro...      1164   \n",
       "96        6404  Richard Dawkins urges all atheists to openly s...      1750   \n",
       "\n",
       "        event   film_date  languages       main_speaker  \\\n",
       "1787  TED2014  1395100800         33     David Chalmers   \n",
       "201   TED2008  1204070400         49  Jill Bolte Taylor   \n",
       "644   TED2010  1265846400         39         Sam Harris   \n",
       "0     TED2006  1140825600         60       Ken Robinson   \n",
       "96    TED2002  1012608000         42    Richard Dawkins   \n",
       "\n",
       "                                                   name  num_speaker  \\\n",
       "1787  David Chalmers: How do you explain consciousness?            1   \n",
       "201             Jill Bolte Taylor: My stroke of insight            1   \n",
       "644      Sam Harris: Science can answer moral questions            1   \n",
       "0             Ken Robinson: Do schools kill creativity?            1   \n",
       "96                    Richard Dawkins: Militant atheism            1   \n",
       "\n",
       "      published_date                                            ratings  \\\n",
       "1787      1405350484  [{'id': 25, 'name': 'OK', 'count': 280}, {'id'...   \n",
       "201       1205284200  [{'id': 22, 'name': 'Fascinating', 'count': 14...   \n",
       "644       1269249180  [{'id': 8, 'name': 'Informative', 'count': 923...   \n",
       "0         1151367060  [{'id': 7, 'name': 'Funny', 'count': 19645}, {...   \n",
       "96        1176689220  [{'id': 3, 'name': 'Courageous', 'count': 3236...   \n",
       "\n",
       "                                          related_talks  \\\n",
       "1787  [{'id': 1308, 'hero': 'https://pe.tedcdn.com/i...   \n",
       "201   [{'id': 184, 'hero': 'https://pe.tedcdn.com/im...   \n",
       "644   [{'id': 666, 'hero': 'https://pe.tedcdn.com/im...   \n",
       "0     [{'id': 865, 'hero': 'https://pe.tedcdn.com/im...   \n",
       "96    [{'id': 86, 'hero': 'https://pe.tedcdn.com/ima...   \n",
       "\n",
       "               speaker_occupation  \\\n",
       "1787                  Philosopher   \n",
       "201                Neuroanatomist   \n",
       "644   Neuroscientist, philosopher   \n",
       "0                 Author/educator   \n",
       "96         Evolutionary biologist   \n",
       "\n",
       "                                                   tags  \\\n",
       "1787  ['brain', 'consciousness', 'neuroscience', 'ph...   \n",
       "201   ['biology', 'brain', 'consciousness', 'global ...   \n",
       "644   ['culture', 'evolutionary psychology', 'global...   \n",
       "0     ['children', 'creativity', 'culture', 'dance',...   \n",
       "96    ['God', 'atheism', 'culture', 'religion', 'sci...   \n",
       "\n",
       "                                   title  \\\n",
       "1787   How do you explain consciousness?   \n",
       "201                 My stroke of insight   \n",
       "644   Science can answer moral questions   \n",
       "0            Do schools kill creativity?   \n",
       "96                      Militant atheism   \n",
       "\n",
       "                                                    url     views  \\\n",
       "1787  https://www.ted.com/talks/david_chalmers_how_d...   2162764   \n",
       "201   https://www.ted.com/talks/jill_bolte_taylor_s_...  21190883   \n",
       "644   https://www.ted.com/talks/sam_harris_science_c...   3433437   \n",
       "0     https://www.ted.com/talks/ken_robinson_says_sc...  47227110   \n",
       "96    https://www.ted.com/talks/richard_dawkins_on_m...   4374792   \n",
       "\n",
       "      comments_per_view  views_per_comment  \n",
       "1787           0.001236         809.114852  \n",
       "201            0.000136        7365.618005  \n",
       "644            0.000977        1023.074195  \n",
       "0              0.000096       10372.745443  \n",
       "96             0.001464         683.134291  "
      ]
     },
     "execution_count": 20,
     "metadata": {},
     "output_type": "execute_result"
    }
   ],
   "source": [
    "# Which talks generated the most discussion?\n",
    "# sort_values() function to sort by specific column\n",
    "\n",
    "# .tail() since it sorts in ascending order\n",
    "\n",
    "ted.sort_values('comments').tail()"
   ]
  },
  {
   "cell_type": "code",
   "execution_count": null,
   "metadata": {},
   "outputs": [],
   "source": [
    "# However, must also look at #views, and how long the video has been up\n",
    "# Otherwise misleading"
   ]
  },
  {
   "cell_type": "code",
   "execution_count": 10,
   "metadata": {},
   "outputs": [],
   "source": [
    "# make a new column to normalize #comments per view\n",
    "ted['comments_per_view'] = ted.comments/ted.views\n",
    "\n",
    "# try to use dot (.) notation when you can\n",
    "# must use bracket [] notation when creating a new series: ted['comments_per_view']"
   ]
  },
  {
   "cell_type": "code",
   "execution_count": 11,
   "metadata": {
    "collapsed": true
   },
   "outputs": [
    {
     "data": {
      "text/plain": [
       "2534    0.000003\n",
       "2501    0.000004\n",
       "2542    0.000006\n",
       "2528    0.000006\n",
       "2494    0.000007\n",
       "          ...   \n",
       "954     0.001360\n",
       "694     0.001421\n",
       "96      0.001464\n",
       "803     0.001534\n",
       "744     0.002220\n",
       "Name: comments_per_view, Length: 2550, dtype: float64"
      ]
     },
     "execution_count": 11,
     "metadata": {},
     "output_type": "execute_result"
    }
   ],
   "source": [
    "# sort by comments per view\n",
    "# method 1: sort after narrowing to 'comments_per_view' column\n",
    "ted.comments_per_view.sort_values()"
   ]
  },
  {
   "cell_type": "code",
   "execution_count": 12,
   "metadata": {
    "collapsed": true
   },
   "outputs": [
    {
     "data": {
      "text/html": [
       "<div>\n",
       "<style scoped>\n",
       "    .dataframe tbody tr th:only-of-type {\n",
       "        vertical-align: middle;\n",
       "    }\n",
       "\n",
       "    .dataframe tbody tr th {\n",
       "        vertical-align: top;\n",
       "    }\n",
       "\n",
       "    .dataframe thead th {\n",
       "        text-align: right;\n",
       "    }\n",
       "</style>\n",
       "<table border=\"1\" class=\"dataframe\">\n",
       "  <thead>\n",
       "    <tr style=\"text-align: right;\">\n",
       "      <th></th>\n",
       "      <th>comments</th>\n",
       "      <th>description</th>\n",
       "      <th>duration</th>\n",
       "      <th>event</th>\n",
       "      <th>film_date</th>\n",
       "      <th>languages</th>\n",
       "      <th>main_speaker</th>\n",
       "      <th>name</th>\n",
       "      <th>num_speaker</th>\n",
       "      <th>published_date</th>\n",
       "      <th>ratings</th>\n",
       "      <th>related_talks</th>\n",
       "      <th>speaker_occupation</th>\n",
       "      <th>tags</th>\n",
       "      <th>title</th>\n",
       "      <th>url</th>\n",
       "      <th>views</th>\n",
       "      <th>comments_per_view</th>\n",
       "    </tr>\n",
       "  </thead>\n",
       "  <tbody>\n",
       "    <tr>\n",
       "      <td>954</td>\n",
       "      <td>2492</td>\n",
       "      <td>Janet Echelman found her true voice as an arti...</td>\n",
       "      <td>566</td>\n",
       "      <td>TED2011</td>\n",
       "      <td>1299110400</td>\n",
       "      <td>35</td>\n",
       "      <td>Janet Echelman</td>\n",
       "      <td>Janet Echelman: Taking imagination seriously</td>\n",
       "      <td>1</td>\n",
       "      <td>1307489760</td>\n",
       "      <td>[{'id': 23, 'name': 'Jaw-dropping', 'count': 3...</td>\n",
       "      <td>[{'id': 453, 'hero': 'https://pe.tedcdn.com/im...</td>\n",
       "      <td>Artist</td>\n",
       "      <td>['art', 'cities', 'culture', 'data', 'design',...</td>\n",
       "      <td>Taking imagination seriously</td>\n",
       "      <td>https://www.ted.com/talks/janet_echelman</td>\n",
       "      <td>1832930</td>\n",
       "      <td>0.001360</td>\n",
       "    </tr>\n",
       "    <tr>\n",
       "      <td>694</td>\n",
       "      <td>1502</td>\n",
       "      <td>Filmmaker Sharmeen Obaid-Chinoy takes on a ter...</td>\n",
       "      <td>489</td>\n",
       "      <td>TED2010</td>\n",
       "      <td>1265760000</td>\n",
       "      <td>32</td>\n",
       "      <td>Sharmeen Obaid-Chinoy</td>\n",
       "      <td>Sharmeen Obaid-Chinoy: Inside a school for sui...</td>\n",
       "      <td>1</td>\n",
       "      <td>1274865960</td>\n",
       "      <td>[{'id': 23, 'name': 'Jaw-dropping', 'count': 3...</td>\n",
       "      <td>[{'id': 171, 'hero': 'https://pe.tedcdn.com/im...</td>\n",
       "      <td>Filmmaker</td>\n",
       "      <td>['TED Fellows', 'children', 'culture', 'film',...</td>\n",
       "      <td>Inside a school for suicide bombers</td>\n",
       "      <td>https://www.ted.com/talks/sharmeen_obaid_chino...</td>\n",
       "      <td>1057238</td>\n",
       "      <td>0.001421</td>\n",
       "    </tr>\n",
       "    <tr>\n",
       "      <td>96</td>\n",
       "      <td>6404</td>\n",
       "      <td>Richard Dawkins urges all atheists to openly s...</td>\n",
       "      <td>1750</td>\n",
       "      <td>TED2002</td>\n",
       "      <td>1012608000</td>\n",
       "      <td>42</td>\n",
       "      <td>Richard Dawkins</td>\n",
       "      <td>Richard Dawkins: Militant atheism</td>\n",
       "      <td>1</td>\n",
       "      <td>1176689220</td>\n",
       "      <td>[{'id': 3, 'name': 'Courageous', 'count': 3236...</td>\n",
       "      <td>[{'id': 86, 'hero': 'https://pe.tedcdn.com/ima...</td>\n",
       "      <td>Evolutionary biologist</td>\n",
       "      <td>['God', 'atheism', 'culture', 'religion', 'sci...</td>\n",
       "      <td>Militant atheism</td>\n",
       "      <td>https://www.ted.com/talks/richard_dawkins_on_m...</td>\n",
       "      <td>4374792</td>\n",
       "      <td>0.001464</td>\n",
       "    </tr>\n",
       "    <tr>\n",
       "      <td>803</td>\n",
       "      <td>834</td>\n",
       "      <td>David Bismark demos a new system for voting th...</td>\n",
       "      <td>422</td>\n",
       "      <td>TEDGlobal 2010</td>\n",
       "      <td>1279065600</td>\n",
       "      <td>36</td>\n",
       "      <td>David Bismark</td>\n",
       "      <td>David Bismark: E-voting without fraud</td>\n",
       "      <td>1</td>\n",
       "      <td>1288685640</td>\n",
       "      <td>[{'id': 25, 'name': 'OK', 'count': 111}, {'id'...</td>\n",
       "      <td>[{'id': 803, 'hero': 'https://pe.tedcdn.com/im...</td>\n",
       "      <td>Voting system designer</td>\n",
       "      <td>['culture', 'democracy', 'design', 'global iss...</td>\n",
       "      <td>E-voting without fraud</td>\n",
       "      <td>https://www.ted.com/talks/david_bismark_e_voti...</td>\n",
       "      <td>543551</td>\n",
       "      <td>0.001534</td>\n",
       "    </tr>\n",
       "    <tr>\n",
       "      <td>744</td>\n",
       "      <td>649</td>\n",
       "      <td>Hours before New York lawmakers rejected a key...</td>\n",
       "      <td>453</td>\n",
       "      <td>New York State Senate</td>\n",
       "      <td>1259712000</td>\n",
       "      <td>0</td>\n",
       "      <td>Diane J. Savino</td>\n",
       "      <td>Diane J. Savino: The case for same-sex marriage</td>\n",
       "      <td>1</td>\n",
       "      <td>1282062180</td>\n",
       "      <td>[{'id': 25, 'name': 'OK', 'count': 100}, {'id'...</td>\n",
       "      <td>[{'id': 217, 'hero': 'https://pe.tedcdn.com/im...</td>\n",
       "      <td>Senator</td>\n",
       "      <td>['God', 'LGBT', 'culture', 'government', 'law'...</td>\n",
       "      <td>The case for same-sex marriage</td>\n",
       "      <td>https://www.ted.com/talks/diane_j_savino_the_c...</td>\n",
       "      <td>292395</td>\n",
       "      <td>0.002220</td>\n",
       "    </tr>\n",
       "  </tbody>\n",
       "</table>\n",
       "</div>"
      ],
      "text/plain": [
       "     comments                                        description  duration  \\\n",
       "954      2492  Janet Echelman found her true voice as an arti...       566   \n",
       "694      1502  Filmmaker Sharmeen Obaid-Chinoy takes on a ter...       489   \n",
       "96       6404  Richard Dawkins urges all atheists to openly s...      1750   \n",
       "803       834  David Bismark demos a new system for voting th...       422   \n",
       "744       649  Hours before New York lawmakers rejected a key...       453   \n",
       "\n",
       "                     event   film_date  languages           main_speaker  \\\n",
       "954                TED2011  1299110400         35         Janet Echelman   \n",
       "694                TED2010  1265760000         32  Sharmeen Obaid-Chinoy   \n",
       "96                 TED2002  1012608000         42        Richard Dawkins   \n",
       "803         TEDGlobal 2010  1279065600         36          David Bismark   \n",
       "744  New York State Senate  1259712000          0        Diane J. Savino   \n",
       "\n",
       "                                                  name  num_speaker  \\\n",
       "954       Janet Echelman: Taking imagination seriously            1   \n",
       "694  Sharmeen Obaid-Chinoy: Inside a school for sui...            1   \n",
       "96                   Richard Dawkins: Militant atheism            1   \n",
       "803              David Bismark: E-voting without fraud            1   \n",
       "744    Diane J. Savino: The case for same-sex marriage            1   \n",
       "\n",
       "     published_date                                            ratings  \\\n",
       "954      1307489760  [{'id': 23, 'name': 'Jaw-dropping', 'count': 3...   \n",
       "694      1274865960  [{'id': 23, 'name': 'Jaw-dropping', 'count': 3...   \n",
       "96       1176689220  [{'id': 3, 'name': 'Courageous', 'count': 3236...   \n",
       "803      1288685640  [{'id': 25, 'name': 'OK', 'count': 111}, {'id'...   \n",
       "744      1282062180  [{'id': 25, 'name': 'OK', 'count': 100}, {'id'...   \n",
       "\n",
       "                                         related_talks  \\\n",
       "954  [{'id': 453, 'hero': 'https://pe.tedcdn.com/im...   \n",
       "694  [{'id': 171, 'hero': 'https://pe.tedcdn.com/im...   \n",
       "96   [{'id': 86, 'hero': 'https://pe.tedcdn.com/ima...   \n",
       "803  [{'id': 803, 'hero': 'https://pe.tedcdn.com/im...   \n",
       "744  [{'id': 217, 'hero': 'https://pe.tedcdn.com/im...   \n",
       "\n",
       "         speaker_occupation  \\\n",
       "954                  Artist   \n",
       "694               Filmmaker   \n",
       "96   Evolutionary biologist   \n",
       "803  Voting system designer   \n",
       "744                 Senator   \n",
       "\n",
       "                                                  tags  \\\n",
       "954  ['art', 'cities', 'culture', 'data', 'design',...   \n",
       "694  ['TED Fellows', 'children', 'culture', 'film',...   \n",
       "96   ['God', 'atheism', 'culture', 'religion', 'sci...   \n",
       "803  ['culture', 'democracy', 'design', 'global iss...   \n",
       "744  ['God', 'LGBT', 'culture', 'government', 'law'...   \n",
       "\n",
       "                                   title  \\\n",
       "954         Taking imagination seriously   \n",
       "694  Inside a school for suicide bombers   \n",
       "96                      Militant atheism   \n",
       "803               E-voting without fraud   \n",
       "744       The case for same-sex marriage   \n",
       "\n",
       "                                                   url    views  \\\n",
       "954           https://www.ted.com/talks/janet_echelman  1832930   \n",
       "694  https://www.ted.com/talks/sharmeen_obaid_chino...  1057238   \n",
       "96   https://www.ted.com/talks/richard_dawkins_on_m...  4374792   \n",
       "803  https://www.ted.com/talks/david_bismark_e_voti...   543551   \n",
       "744  https://www.ted.com/talks/diane_j_savino_the_c...   292395   \n",
       "\n",
       "     comments_per_view  \n",
       "954           0.001360  \n",
       "694           0.001421  \n",
       "96            0.001464  \n",
       "803           0.001534  \n",
       "744           0.002220  "
      ]
     },
     "execution_count": 12,
     "metadata": {},
     "output_type": "execute_result"
    }
   ],
   "source": [
    "# method 2: sort entire df by 'comments_per_view' column\n",
    "ted.sort_values('comments_per_view').tail()"
   ]
  },
  {
   "cell_type": "code",
   "execution_count": 21,
   "metadata": {},
   "outputs": [],
   "source": [
    "# How to make comments_per_view more interpretable and easy to understand\n",
    "# Idea: reverse to 'views per comment'\n",
    "ted['views_per_comment'] = ted.views/ted.comments"
   ]
  },
  {
   "cell_type": "code",
   "execution_count": 22,
   "metadata": {
    "scrolled": true
   },
   "outputs": [
    {
     "data": {
      "text/html": [
       "<div>\n",
       "<style scoped>\n",
       "    .dataframe tbody tr th:only-of-type {\n",
       "        vertical-align: middle;\n",
       "    }\n",
       "\n",
       "    .dataframe tbody tr th {\n",
       "        vertical-align: top;\n",
       "    }\n",
       "\n",
       "    .dataframe thead th {\n",
       "        text-align: right;\n",
       "    }\n",
       "</style>\n",
       "<table border=\"1\" class=\"dataframe\">\n",
       "  <thead>\n",
       "    <tr style=\"text-align: right;\">\n",
       "      <th></th>\n",
       "      <th>comments</th>\n",
       "      <th>description</th>\n",
       "      <th>duration</th>\n",
       "      <th>event</th>\n",
       "      <th>film_date</th>\n",
       "      <th>languages</th>\n",
       "      <th>main_speaker</th>\n",
       "      <th>name</th>\n",
       "      <th>num_speaker</th>\n",
       "      <th>published_date</th>\n",
       "      <th>ratings</th>\n",
       "      <th>related_talks</th>\n",
       "      <th>speaker_occupation</th>\n",
       "      <th>tags</th>\n",
       "      <th>title</th>\n",
       "      <th>url</th>\n",
       "      <th>views</th>\n",
       "      <th>comments_per_view</th>\n",
       "      <th>views_per_comment</th>\n",
       "    </tr>\n",
       "  </thead>\n",
       "  <tbody>\n",
       "    <tr>\n",
       "      <td>744</td>\n",
       "      <td>649</td>\n",
       "      <td>Hours before New York lawmakers rejected a key...</td>\n",
       "      <td>453</td>\n",
       "      <td>New York State Senate</td>\n",
       "      <td>1259712000</td>\n",
       "      <td>0</td>\n",
       "      <td>Diane J. Savino</td>\n",
       "      <td>Diane J. Savino: The case for same-sex marriage</td>\n",
       "      <td>1</td>\n",
       "      <td>1282062180</td>\n",
       "      <td>[{'id': 25, 'name': 'OK', 'count': 100}, {'id'...</td>\n",
       "      <td>[{'id': 217, 'hero': 'https://pe.tedcdn.com/im...</td>\n",
       "      <td>Senator</td>\n",
       "      <td>['God', 'LGBT', 'culture', 'government', 'law'...</td>\n",
       "      <td>The case for same-sex marriage</td>\n",
       "      <td>https://www.ted.com/talks/diane_j_savino_the_c...</td>\n",
       "      <td>292395</td>\n",
       "      <td>0.002220</td>\n",
       "      <td>450.531587</td>\n",
       "    </tr>\n",
       "    <tr>\n",
       "      <td>803</td>\n",
       "      <td>834</td>\n",
       "      <td>David Bismark demos a new system for voting th...</td>\n",
       "      <td>422</td>\n",
       "      <td>TEDGlobal 2010</td>\n",
       "      <td>1279065600</td>\n",
       "      <td>36</td>\n",
       "      <td>David Bismark</td>\n",
       "      <td>David Bismark: E-voting without fraud</td>\n",
       "      <td>1</td>\n",
       "      <td>1288685640</td>\n",
       "      <td>[{'id': 25, 'name': 'OK', 'count': 111}, {'id'...</td>\n",
       "      <td>[{'id': 803, 'hero': 'https://pe.tedcdn.com/im...</td>\n",
       "      <td>Voting system designer</td>\n",
       "      <td>['culture', 'democracy', 'design', 'global iss...</td>\n",
       "      <td>E-voting without fraud</td>\n",
       "      <td>https://www.ted.com/talks/david_bismark_e_voti...</td>\n",
       "      <td>543551</td>\n",
       "      <td>0.001534</td>\n",
       "      <td>651.739808</td>\n",
       "    </tr>\n",
       "    <tr>\n",
       "      <td>96</td>\n",
       "      <td>6404</td>\n",
       "      <td>Richard Dawkins urges all atheists to openly s...</td>\n",
       "      <td>1750</td>\n",
       "      <td>TED2002</td>\n",
       "      <td>1012608000</td>\n",
       "      <td>42</td>\n",
       "      <td>Richard Dawkins</td>\n",
       "      <td>Richard Dawkins: Militant atheism</td>\n",
       "      <td>1</td>\n",
       "      <td>1176689220</td>\n",
       "      <td>[{'id': 3, 'name': 'Courageous', 'count': 3236...</td>\n",
       "      <td>[{'id': 86, 'hero': 'https://pe.tedcdn.com/ima...</td>\n",
       "      <td>Evolutionary biologist</td>\n",
       "      <td>['God', 'atheism', 'culture', 'religion', 'sci...</td>\n",
       "      <td>Militant atheism</td>\n",
       "      <td>https://www.ted.com/talks/richard_dawkins_on_m...</td>\n",
       "      <td>4374792</td>\n",
       "      <td>0.001464</td>\n",
       "      <td>683.134291</td>\n",
       "    </tr>\n",
       "    <tr>\n",
       "      <td>694</td>\n",
       "      <td>1502</td>\n",
       "      <td>Filmmaker Sharmeen Obaid-Chinoy takes on a ter...</td>\n",
       "      <td>489</td>\n",
       "      <td>TED2010</td>\n",
       "      <td>1265760000</td>\n",
       "      <td>32</td>\n",
       "      <td>Sharmeen Obaid-Chinoy</td>\n",
       "      <td>Sharmeen Obaid-Chinoy: Inside a school for sui...</td>\n",
       "      <td>1</td>\n",
       "      <td>1274865960</td>\n",
       "      <td>[{'id': 23, 'name': 'Jaw-dropping', 'count': 3...</td>\n",
       "      <td>[{'id': 171, 'hero': 'https://pe.tedcdn.com/im...</td>\n",
       "      <td>Filmmaker</td>\n",
       "      <td>['TED Fellows', 'children', 'culture', 'film',...</td>\n",
       "      <td>Inside a school for suicide bombers</td>\n",
       "      <td>https://www.ted.com/talks/sharmeen_obaid_chino...</td>\n",
       "      <td>1057238</td>\n",
       "      <td>0.001421</td>\n",
       "      <td>703.886818</td>\n",
       "    </tr>\n",
       "    <tr>\n",
       "      <td>954</td>\n",
       "      <td>2492</td>\n",
       "      <td>Janet Echelman found her true voice as an arti...</td>\n",
       "      <td>566</td>\n",
       "      <td>TED2011</td>\n",
       "      <td>1299110400</td>\n",
       "      <td>35</td>\n",
       "      <td>Janet Echelman</td>\n",
       "      <td>Janet Echelman: Taking imagination seriously</td>\n",
       "      <td>1</td>\n",
       "      <td>1307489760</td>\n",
       "      <td>[{'id': 23, 'name': 'Jaw-dropping', 'count': 3...</td>\n",
       "      <td>[{'id': 453, 'hero': 'https://pe.tedcdn.com/im...</td>\n",
       "      <td>Artist</td>\n",
       "      <td>['art', 'cities', 'culture', 'data', 'design',...</td>\n",
       "      <td>Taking imagination seriously</td>\n",
       "      <td>https://www.ted.com/talks/janet_echelman</td>\n",
       "      <td>1832930</td>\n",
       "      <td>0.001360</td>\n",
       "      <td>735.525682</td>\n",
       "    </tr>\n",
       "  </tbody>\n",
       "</table>\n",
       "</div>"
      ],
      "text/plain": [
       "     comments                                        description  duration  \\\n",
       "744       649  Hours before New York lawmakers rejected a key...       453   \n",
       "803       834  David Bismark demos a new system for voting th...       422   \n",
       "96       6404  Richard Dawkins urges all atheists to openly s...      1750   \n",
       "694      1502  Filmmaker Sharmeen Obaid-Chinoy takes on a ter...       489   \n",
       "954      2492  Janet Echelman found her true voice as an arti...       566   \n",
       "\n",
       "                     event   film_date  languages           main_speaker  \\\n",
       "744  New York State Senate  1259712000          0        Diane J. Savino   \n",
       "803         TEDGlobal 2010  1279065600         36          David Bismark   \n",
       "96                 TED2002  1012608000         42        Richard Dawkins   \n",
       "694                TED2010  1265760000         32  Sharmeen Obaid-Chinoy   \n",
       "954                TED2011  1299110400         35         Janet Echelman   \n",
       "\n",
       "                                                  name  num_speaker  \\\n",
       "744    Diane J. Savino: The case for same-sex marriage            1   \n",
       "803              David Bismark: E-voting without fraud            1   \n",
       "96                   Richard Dawkins: Militant atheism            1   \n",
       "694  Sharmeen Obaid-Chinoy: Inside a school for sui...            1   \n",
       "954       Janet Echelman: Taking imagination seriously            1   \n",
       "\n",
       "     published_date                                            ratings  \\\n",
       "744      1282062180  [{'id': 25, 'name': 'OK', 'count': 100}, {'id'...   \n",
       "803      1288685640  [{'id': 25, 'name': 'OK', 'count': 111}, {'id'...   \n",
       "96       1176689220  [{'id': 3, 'name': 'Courageous', 'count': 3236...   \n",
       "694      1274865960  [{'id': 23, 'name': 'Jaw-dropping', 'count': 3...   \n",
       "954      1307489760  [{'id': 23, 'name': 'Jaw-dropping', 'count': 3...   \n",
       "\n",
       "                                         related_talks  \\\n",
       "744  [{'id': 217, 'hero': 'https://pe.tedcdn.com/im...   \n",
       "803  [{'id': 803, 'hero': 'https://pe.tedcdn.com/im...   \n",
       "96   [{'id': 86, 'hero': 'https://pe.tedcdn.com/ima...   \n",
       "694  [{'id': 171, 'hero': 'https://pe.tedcdn.com/im...   \n",
       "954  [{'id': 453, 'hero': 'https://pe.tedcdn.com/im...   \n",
       "\n",
       "         speaker_occupation  \\\n",
       "744                 Senator   \n",
       "803  Voting system designer   \n",
       "96   Evolutionary biologist   \n",
       "694               Filmmaker   \n",
       "954                  Artist   \n",
       "\n",
       "                                                  tags  \\\n",
       "744  ['God', 'LGBT', 'culture', 'government', 'law'...   \n",
       "803  ['culture', 'democracy', 'design', 'global iss...   \n",
       "96   ['God', 'atheism', 'culture', 'religion', 'sci...   \n",
       "694  ['TED Fellows', 'children', 'culture', 'film',...   \n",
       "954  ['art', 'cities', 'culture', 'data', 'design',...   \n",
       "\n",
       "                                   title  \\\n",
       "744       The case for same-sex marriage   \n",
       "803               E-voting without fraud   \n",
       "96                      Militant atheism   \n",
       "694  Inside a school for suicide bombers   \n",
       "954         Taking imagination seriously   \n",
       "\n",
       "                                                   url    views  \\\n",
       "744  https://www.ted.com/talks/diane_j_savino_the_c...   292395   \n",
       "803  https://www.ted.com/talks/david_bismark_e_voti...   543551   \n",
       "96   https://www.ted.com/talks/richard_dawkins_on_m...  4374792   \n",
       "694  https://www.ted.com/talks/sharmeen_obaid_chino...  1057238   \n",
       "954           https://www.ted.com/talks/janet_echelman  1832930   \n",
       "\n",
       "     comments_per_view  views_per_comment  \n",
       "744           0.002220         450.531587  \n",
       "803           0.001534         651.739808  \n",
       "96            0.001464         683.134291  \n",
       "694           0.001421         703.886818  \n",
       "954           0.001360         735.525682  "
      ]
     },
     "execution_count": 22,
     "metadata": {},
     "output_type": "execute_result"
    }
   ],
   "source": [
    "# .head() b/c we want the smallest number: number of views in between each comment\n",
    "# '1 out of X people leave a comment'\n",
    "ted.sort_values('views_per_comment').head()"
   ]
  },
  {
   "cell_type": "markdown",
   "metadata": {},
   "source": [
    "# 1. Consider the limitations and biases of your data\n",
    " - The dataset does not include sub/nested comments, only main comments.\n",
    " - Older talks have had more time to accumulate comments. Create new metric to normalize by views.\n",
    "\n",
    "# 2. Make your results understandable\n",
    "- Make columns/metrics understandable for your audience, not just you. \n",
    "- \"Views per comment\" makes intuitive sense to someone instead of \"comments per view.\"\n",
    " "
   ]
  },
  {
   "cell_type": "markdown",
   "metadata": {},
   "source": [
    "# 3. Visualize the distribution of comments"
   ]
  },
  {
   "cell_type": "code",
   "execution_count": 23,
   "metadata": {
    "collapsed": true
   },
   "outputs": [
    {
     "data": {
      "text/plain": [
       "<matplotlib.axes._subplots.AxesSubplot at 0x121335f28>"
      ]
     },
     "execution_count": 23,
     "metadata": {},
     "output_type": "execute_result"
    },
    {
     "data": {
      "image/png": "[encoded data removed]",
      "text/plain": [
       "<Figure size 432x288 with 1 Axes>"
      ]
     },
     "metadata": {
      "needs_background": "light"
     },
     "output_type": "display_data"
    }
   ],
   "source": [
    "ted.comments.plot()\n",
    "# defaults to a line plot. Each observation's # comments is plotted\n",
    "# individually and connected by a line. Usually better for graphs over time\n",
    "\n",
    "# hit shift+tab 4 times within () to display arguments"
   ]
  },
  {
   "cell_type": "code",
   "execution_count": 24,
   "metadata": {
    "collapsed": true
   },
   "outputs": [
    {
     "data": {
      "text/plain": [
       "<matplotlib.axes._subplots.AxesSubplot at 0x121bb1dd8>"
      ]
     },
     "execution_count": 24,
     "metadata": {},
     "output_type": "execute_result"
    },
    {
     "data": {
      "image/png": "[encoded data removed]",
      "text/plain": [
       "<Figure size 432x288 with 1 Axes>"
      ]
     },
     "metadata": {
      "needs_background": "light"
     },
     "output_type": "display_data"
    }
   ],
   "source": [
    "# Visualize the distribution of comments with 'hist'\n",
    "# default is 10 bins ~ max comments = 6000 -> bin size ~ 600 comments\n",
    "ted.comments.plot(kind = 'hist', bins = 10)"
   ]
  },
  {
   "cell_type": "markdown",
   "metadata": {},
   "source": [
    "## We need to make this plot more informative by showing the distribution within the first 2 bins"
   ]
  },
  {
   "cell_type": "code",
   "execution_count": 25,
   "metadata": {},
   "outputs": [
    {
     "name": "stdout",
     "output_type": "stream",
     "text": [
      "(32, 19)\n"
     ]
    },
    {
     "data": {
      "text/plain": [
       "32"
      ]
     },
     "execution_count": 25,
     "metadata": {},
     "output_type": "execute_result"
    }
   ],
   "source": [
    "# We only lost 32 observations \n",
    "print(ted.loc[ted.comments >= 1000].shape)\n",
    "ted.loc[ted.comments >=1000].comments.count() #32 obs"
   ]
  },
  {
   "cell_type": "code",
   "execution_count": 26,
   "metadata": {
    "collapsed": true
   },
   "outputs": [
    {
     "data": {
      "text/plain": [
       "<matplotlib.axes._subplots.AxesSubplot at 0x121c96978>"
      ]
     },
     "execution_count": 26,
     "metadata": {},
     "output_type": "execute_result"
    },
    {
     "data": {
      "image/png": "[encoded data removed]",
      "text/plain": [
       "<Figure size 432x288 with 1 Axes>"
      ]
     },
     "metadata": {
      "needs_background": "light"
     },
     "output_type": "display_data"
    }
   ],
   "source": [
    "# Majority of data in first bin (0- ~600)\n",
    "# Display only distribution for 0-1000 comments\n",
    "\n",
    "ted[ted.comments < 1000].comments.plot(kind = 'hist')"
   ]
  },
  {
   "cell_type": "code",
   "execution_count": 44,
   "metadata": {
    "collapsed": true
   },
   "outputs": [
    {
     "data": {
      "text/plain": [
       "<matplotlib.axes._subplots.AxesSubplot at 0x1a2488a7f0>"
      ]
     },
     "execution_count": 44,
     "metadata": {},
     "output_type": "execute_result"
    },
    {
     "data": {
      "image/png": "[encoded data removed]",
      "text/plain": [
       "<Figure size 432x288 with 1 Axes>"
      ]
     },
     "metadata": {
      "needs_background": "light"
     },
     "output_type": "display_data"
    }
   ],
   "source": [
    "# double conditional with .loc method\n",
    "ted.loc[(ted.views_per_comment < 50000) & (ted.comments < 1000), 'views_per_comment'].plot(kind='hist', bins=10)"
   ]
  },
  {
   "cell_type": "code",
   "execution_count": 31,
   "metadata": {
    "collapsed": true
   },
   "outputs": [
    {
     "data": {
      "text/plain": [
       "<matplotlib.axes._subplots.AxesSubplot at 0x121f49d68>"
      ]
     },
     "execution_count": 31,
     "metadata": {},
     "output_type": "execute_result"
    },
    {
     "data": {
      "image/png": "[encoded data removed]",
      "text/plain": [
       "<Figure size 432x288 with 1 Axes>"
      ]
     },
     "metadata": {
      "needs_background": "light"
     },
     "output_type": "display_data"
    }
   ],
   "source": [
    "# most intuitive method\n",
    "ted.loc[ted.comments < 1000, 'comments'].plot(kind='hist', bins = 20)\n",
    "# .loc[rows,columns]\n",
    "# .loc is great for passing indexes, specific columns, or boolean series (where specific rows = True)"
   ]
  },
  {
   "cell_type": "code",
   "execution_count": 50,
   "metadata": {
    "collapsed": true
   },
   "outputs": [
    {
     "data": {
      "text/plain": [
       "<matplotlib.axes._subplots.AxesSubplot at 0x1a24e6ba90>"
      ]
     },
     "execution_count": 50,
     "metadata": {},
     "output_type": "execute_result"
    },
    {
     "data": {
      "image/png": "[encoded data removed]",
      "text/plain": [
       "<Figure size 432x288 with 1 Axes>"
      ]
     },
     "metadata": {
      "needs_background": "light"
     },
     "output_type": "display_data"
    }
   ],
   "source": [
    "# 'density' plot\n",
    "ted.loc[ted.comments < 1000].comments.plot(kind = 'kde')"
   ]
  },
  {
   "cell_type": "code",
   "execution_count": 70,
   "metadata": {
    "collapsed": true
   },
   "outputs": [
    {
     "data": {
      "text/plain": [
       "<matplotlib.axes._subplots.AxesSubplot at 0x1a1eb5ea90>"
      ]
     },
     "execution_count": 70,
     "metadata": {},
     "output_type": "execute_result"
    },
    {
     "data": {
      "image/png": "[encoded data removed]",
      "text/plain": [
       "<Figure size 432x288 with 1 Axes>"
      ]
     },
     "metadata": {
      "needs_background": "light"
     },
     "output_type": "display_data"
    }
   ],
   "source": [
    "# boxplot: not most informative in this case b/c a lot of outliers (black dots)\n",
    "ted.loc[ted.comments < 1000, 'comments'].plot(kind = 'box')"
   ]
  },
  {
   "cell_type": "markdown",
   "metadata": {},
   "source": [
    "# Visualizing the Data\n",
    "- Choose plot type based on question you are answering and data types you are working with\n",
    "    - Histograms: distributions\n",
    "    - Bar graphs: categories\n",
    "    - Line graphs: time series data\n",
    "    - Scatterplots: Comparing multiple numeric variables\n",
    "- Use pandas one-liners to display plots quickly: DF.plot(kind, etc.), rather than multi-line commands. Good for EDA.\n",
    "- Modify plot default arguments\n",
    "- Creating plots involves decision making to tell best story. Might have to omit observations, as seen earlier."
   ]
  },
  {
   "cell_type": "markdown",
   "metadata": {},
   "source": [
    "# 4. Plot the number of talks that took place each year "
   ]
  },
  {
   "cell_type": "code",
   "execution_count": 83,
   "metadata": {
    "collapsed": true
   },
   "outputs": [
    {
     "data": {
      "text/html": [
       "<div>\n",
       "<style scoped>\n",
       "    .dataframe tbody tr th:only-of-type {\n",
       "        vertical-align: middle;\n",
       "    }\n",
       "\n",
       "    .dataframe tbody tr th {\n",
       "        vertical-align: top;\n",
       "    }\n",
       "\n",
       "    .dataframe thead th {\n",
       "        text-align: right;\n",
       "    }\n",
       "</style>\n",
       "<table border=\"1\" class=\"dataframe\">\n",
       "  <thead>\n",
       "    <tr style=\"text-align: right;\">\n",
       "      <th></th>\n",
       "      <th>comments</th>\n",
       "      <th>description</th>\n",
       "      <th>duration</th>\n",
       "      <th>event</th>\n",
       "      <th>film_date</th>\n",
       "      <th>languages</th>\n",
       "      <th>main_speaker</th>\n",
       "      <th>name</th>\n",
       "      <th>num_speaker</th>\n",
       "      <th>published_date</th>\n",
       "      <th>ratings</th>\n",
       "      <th>related_talks</th>\n",
       "      <th>speaker_occupation</th>\n",
       "      <th>tags</th>\n",
       "      <th>title</th>\n",
       "      <th>url</th>\n",
       "      <th>views</th>\n",
       "      <th>comments_per_view</th>\n",
       "      <th>views_per_comment</th>\n",
       "      <th>year</th>\n",
       "    </tr>\n",
       "  </thead>\n",
       "  <tbody>\n",
       "    <tr>\n",
       "      <td>0</td>\n",
       "      <td>4553</td>\n",
       "      <td>Sir Ken Robinson makes an entertaining and pro...</td>\n",
       "      <td>1164</td>\n",
       "      <td>TED2006</td>\n",
       "      <td>1140825600</td>\n",
       "      <td>60</td>\n",
       "      <td>Ken Robinson</td>\n",
       "      <td>Ken Robinson: Do schools kill creativity?</td>\n",
       "      <td>1</td>\n",
       "      <td>1151367060</td>\n",
       "      <td>[{'id': 7, 'name': 'Funny', 'count': 19645}, {...</td>\n",
       "      <td>[{'id': 865, 'hero': 'https://pe.tedcdn.com/im...</td>\n",
       "      <td>Author/educator</td>\n",
       "      <td>['children', 'creativity', 'culture', 'dance',...</td>\n",
       "      <td>Do schools kill creativity?</td>\n",
       "      <td>https://www.ted.com/talks/ken_robinson_says_sc...</td>\n",
       "      <td>47227110</td>\n",
       "      <td>0.000096</td>\n",
       "      <td>10372.745443</td>\n",
       "      <td>2006</td>\n",
       "    </tr>\n",
       "    <tr>\n",
       "      <td>1</td>\n",
       "      <td>265</td>\n",
       "      <td>With the same humor and humanity he exuded in ...</td>\n",
       "      <td>977</td>\n",
       "      <td>TED2006</td>\n",
       "      <td>1140825600</td>\n",
       "      <td>43</td>\n",
       "      <td>Al Gore</td>\n",
       "      <td>Al Gore: Averting the climate crisis</td>\n",
       "      <td>1</td>\n",
       "      <td>1151367060</td>\n",
       "      <td>[{'id': 7, 'name': 'Funny', 'count': 544}, {'i...</td>\n",
       "      <td>[{'id': 243, 'hero': 'https://pe.tedcdn.com/im...</td>\n",
       "      <td>Climate advocate</td>\n",
       "      <td>['alternative energy', 'cars', 'climate change...</td>\n",
       "      <td>Averting the climate crisis</td>\n",
       "      <td>https://www.ted.com/talks/al_gore_on_averting_...</td>\n",
       "      <td>3200520</td>\n",
       "      <td>0.000083</td>\n",
       "      <td>12077.433962</td>\n",
       "      <td>2006</td>\n",
       "    </tr>\n",
       "    <tr>\n",
       "      <td>2</td>\n",
       "      <td>124</td>\n",
       "      <td>New York Times columnist David Pogue takes aim...</td>\n",
       "      <td>1286</td>\n",
       "      <td>TED2006</td>\n",
       "      <td>1140739200</td>\n",
       "      <td>26</td>\n",
       "      <td>David Pogue</td>\n",
       "      <td>David Pogue: Simplicity sells</td>\n",
       "      <td>1</td>\n",
       "      <td>1151367060</td>\n",
       "      <td>[{'id': 7, 'name': 'Funny', 'count': 964}, {'i...</td>\n",
       "      <td>[{'id': 1725, 'hero': 'https://pe.tedcdn.com/i...</td>\n",
       "      <td>Technology columnist</td>\n",
       "      <td>['computers', 'entertainment', 'interface desi...</td>\n",
       "      <td>Simplicity sells</td>\n",
       "      <td>https://www.ted.com/talks/david_pogue_says_sim...</td>\n",
       "      <td>1636292</td>\n",
       "      <td>0.000076</td>\n",
       "      <td>13195.903226</td>\n",
       "      <td>2006</td>\n",
       "    </tr>\n",
       "    <tr>\n",
       "      <td>3</td>\n",
       "      <td>200</td>\n",
       "      <td>In an emotionally charged talk, MacArthur-winn...</td>\n",
       "      <td>1116</td>\n",
       "      <td>TED2006</td>\n",
       "      <td>1140912000</td>\n",
       "      <td>35</td>\n",
       "      <td>Majora Carter</td>\n",
       "      <td>Majora Carter: Greening the ghetto</td>\n",
       "      <td>1</td>\n",
       "      <td>1151367060</td>\n",
       "      <td>[{'id': 3, 'name': 'Courageous', 'count': 760}...</td>\n",
       "      <td>[{'id': 1041, 'hero': 'https://pe.tedcdn.com/i...</td>\n",
       "      <td>Activist for environmental justice</td>\n",
       "      <td>['MacArthur grant', 'activism', 'business', 'c...</td>\n",
       "      <td>Greening the ghetto</td>\n",
       "      <td>https://www.ted.com/talks/majora_carter_s_tale...</td>\n",
       "      <td>1697550</td>\n",
       "      <td>0.000118</td>\n",
       "      <td>8487.750000</td>\n",
       "      <td>2006</td>\n",
       "    </tr>\n",
       "    <tr>\n",
       "      <td>4</td>\n",
       "      <td>593</td>\n",
       "      <td>You've never seen data presented like this. Wi...</td>\n",
       "      <td>1190</td>\n",
       "      <td>TED2006</td>\n",
       "      <td>1140566400</td>\n",
       "      <td>48</td>\n",
       "      <td>Hans Rosling</td>\n",
       "      <td>Hans Rosling: The best stats you've ever seen</td>\n",
       "      <td>1</td>\n",
       "      <td>1151440680</td>\n",
       "      <td>[{'id': 9, 'name': 'Ingenious', 'count': 3202}...</td>\n",
       "      <td>[{'id': 2056, 'hero': 'https://pe.tedcdn.com/i...</td>\n",
       "      <td>Global health expert; data visionary</td>\n",
       "      <td>['Africa', 'Asia', 'Google', 'demo', 'economic...</td>\n",
       "      <td>The best stats you've ever seen</td>\n",
       "      <td>https://www.ted.com/talks/hans_rosling_shows_t...</td>\n",
       "      <td>12005869</td>\n",
       "      <td>0.000049</td>\n",
       "      <td>20245.984823</td>\n",
       "      <td>2006</td>\n",
       "    </tr>\n",
       "  </tbody>\n",
       "</table>\n",
       "</div>"
      ],
      "text/plain": [
       "   comments                                        description  duration  \\\n",
       "0      4553  Sir Ken Robinson makes an entertaining and pro...      1164   \n",
       "1       265  With the same humor and humanity he exuded in ...       977   \n",
       "2       124  New York Times columnist David Pogue takes aim...      1286   \n",
       "3       200  In an emotionally charged talk, MacArthur-winn...      1116   \n",
       "4       593  You've never seen data presented like this. Wi...      1190   \n",
       "\n",
       "     event   film_date  languages   main_speaker  \\\n",
       "0  TED2006  1140825600         60   Ken Robinson   \n",
       "1  TED2006  1140825600         43        Al Gore   \n",
       "2  TED2006  1140739200         26    David Pogue   \n",
       "3  TED2006  1140912000         35  Majora Carter   \n",
       "4  TED2006  1140566400         48   Hans Rosling   \n",
       "\n",
       "                                            name  num_speaker  published_date  \\\n",
       "0      Ken Robinson: Do schools kill creativity?            1      1151367060   \n",
       "1           Al Gore: Averting the climate crisis            1      1151367060   \n",
       "2                  David Pogue: Simplicity sells            1      1151367060   \n",
       "3             Majora Carter: Greening the ghetto            1      1151367060   \n",
       "4  Hans Rosling: The best stats you've ever seen            1      1151440680   \n",
       "\n",
       "                                             ratings  \\\n",
       "0  [{'id': 7, 'name': 'Funny', 'count': 19645}, {...   \n",
       "1  [{'id': 7, 'name': 'Funny', 'count': 544}, {'i...   \n",
       "2  [{'id': 7, 'name': 'Funny', 'count': 964}, {'i...   \n",
       "3  [{'id': 3, 'name': 'Courageous', 'count': 760}...   \n",
       "4  [{'id': 9, 'name': 'Ingenious', 'count': 3202}...   \n",
       "\n",
       "                                       related_talks  \\\n",
       "0  [{'id': 865, 'hero': 'https://pe.tedcdn.com/im...   \n",
       "1  [{'id': 243, 'hero': 'https://pe.tedcdn.com/im...   \n",
       "2  [{'id': 1725, 'hero': 'https://pe.tedcdn.com/i...   \n",
       "3  [{'id': 1041, 'hero': 'https://pe.tedcdn.com/i...   \n",
       "4  [{'id': 2056, 'hero': 'https://pe.tedcdn.com/i...   \n",
       "\n",
       "                     speaker_occupation  \\\n",
       "0                       Author/educator   \n",
       "1                      Climate advocate   \n",
       "2                  Technology columnist   \n",
       "3    Activist for environmental justice   \n",
       "4  Global health expert; data visionary   \n",
       "\n",
       "                                                tags  \\\n",
       "0  ['children', 'creativity', 'culture', 'dance',...   \n",
       "1  ['alternative energy', 'cars', 'climate change...   \n",
       "2  ['computers', 'entertainment', 'interface desi...   \n",
       "3  ['MacArthur grant', 'activism', 'business', 'c...   \n",
       "4  ['Africa', 'Asia', 'Google', 'demo', 'economic...   \n",
       "\n",
       "                             title  \\\n",
       "0      Do schools kill creativity?   \n",
       "1      Averting the climate crisis   \n",
       "2                 Simplicity sells   \n",
       "3              Greening the ghetto   \n",
       "4  The best stats you've ever seen   \n",
       "\n",
       "                                                 url     views  \\\n",
       "0  https://www.ted.com/talks/ken_robinson_says_sc...  47227110   \n",
       "1  https://www.ted.com/talks/al_gore_on_averting_...   3200520   \n",
       "2  https://www.ted.com/talks/david_pogue_says_sim...   1636292   \n",
       "3  https://www.ted.com/talks/majora_carter_s_tale...   1697550   \n",
       "4  https://www.ted.com/talks/hans_rosling_shows_t...  12005869   \n",
       "\n",
       "   comments_per_view  views_per_comment  year  \n",
       "0           0.000096       10372.745443  2006  \n",
       "1           0.000083       12077.433962  2006  \n",
       "2           0.000076       13195.903226  2006  \n",
       "3           0.000118        8487.750000  2006  \n",
       "4           0.000049       20245.984823  2006  "
      ]
     },
     "execution_count": 83,
     "metadata": {},
     "output_type": "execute_result"
    }
   ],
   "source": [
    "ted.head()"
   ]
  },
  {
   "cell_type": "code",
   "execution_count": 76,
   "metadata": {},
   "outputs": [],
   "source": [
    "# Create a new column 'year' from 'event'\n",
    "ted['year'] = ted.event.apply(lambda x: x[3:7])"
   ]
  },
  {
   "cell_type": "code",
   "execution_count": 81,
   "metadata": {
    "collapsed": true
   },
   "outputs": [
    {
     "name": "stdout",
     "output_type": "stream",
     "text": [
      "Glob    463\n",
      "Wome     96\n",
      "2014     84\n",
      "2009     83\n",
      "2007     81\n",
      "       ... \n",
      "xBG       1\n",
      "xMtH      1\n",
      " TV       1\n",
      "xO'P      1\n",
      "tice      1\n",
      "Name: year, Length: 255, dtype: int64\n"
     ]
    },
    {
     "data": {
      "text/plain": [
       "array(['2006', '2004', '2005', 'Glob', 'Salo', '2003', '2007', '2002',\n",
       "       'll W', '2008', '1984', '1990', ' 200', '1998', 'T 20', ' Pri',\n",
       "       'utau', 'ious', 'te3 ', '2001', ' in ', '2009', 'zabe', 'xUSC',\n",
       "       '@Sta', 'xKC', 'Indi', 'tice', 'ines', 'xTC', 'negi', 'nfor',\n",
       "       'N Co', 'vers', 'MED ', 'al I', 'ery ', 'xSMU', 'vard', 'xBos',\n",
       "       'xBer', '2010', 'xAms', 'ld S', ' TV', 'ejds', ' 2.0', 'xNAS',\n",
       "       'hael', 'E Su', 'c Wh', 'sion', 'xPug', 'xNYE', 'onto', 'xEdm',\n",
       "       '@Can', 'xAtl', 'xEas', 'xOil', 'ncet', ' Yor', ' Ani', 'xYYC',\n",
       "       ' Con', ' Do ', 'xCha', ' Sen', 't Wo', 'xTel', 'xDU ', 'xMid',\n",
       "       'xHou', 'xNex', 'xRot', 'Wome', 'xSyd', 'xRai', 'xTor', 'xPSU',\n",
       "       'xGre', 'xGöt', '@Mot', 'xPen', 'Priz', '2011', 'xPea', 'xDub',\n",
       "       'Acti', 'xCal', 'xWar', 'dhel', 'xSil', 'xNor', 'xMaa', 'xBG',\n",
       "       'l Sp', 'xSan', 'xPar', 'tGen', 'xUIU', 'xThe', \"xO'P\", 'xBlo',\n",
       "       'xWat', 'xMan', 'xKid', 'xTee', 'xBou', 'xOra', 'xBru', 'xKra',\n",
       "       'xCMU', 'xVie', 'xDir', 'xCan', 'xRC2', 'xWom', 'xZur', 'xMIA',\n",
       "       'xYou', '1994', 'xVan', 'xIsl', 'xAme', 'xVic', 'xPho', 'xAsh',\n",
       "       'Yout', '2012', 'xUW', '-Ed', 'xCam', 'xPor', 'xNew', 'xPit',\n",
       "       'xObs', 'xCon', 'xAth', '@SXS', 'xAus', 'xMon', 'xSum', 'xHog',\n",
       "       'xSus', 'xGra', 'xABQ', 'xLon', 'xSta', 'xImp', 'xUCL', 'xExe',\n",
       "       'xMau', '@Lon', 'xWin', '@Ban', '@New', 'xCHU', 'xSF', 'xEQC',\n",
       "       'xHel', '@Nai', 'xGeo', '@Joh', 'xWit', 'xJaf', 'xHam', 'xGoo',\n",
       "       'xGla', 'xBea', 'lPan', 'xDel', 'xSeo', '2013', 'xSea', 'xRio',\n",
       "       '@Int', ' Tal', 'xMia', 'xFiD', 'xDeE', 'xCER', 'xNij', 'xCol',\n",
       "       'xDan', 'xTok', 'City', 'xUde', '@BCG', '@NYC', 'xBra', 'xMet',\n",
       "       'xMar', 'xBei', 'xCaF', ' Fel', '2014', 'xPer', 'xUMK', 'xLeu',\n",
       "       'xUof', 'xKyo', 'xCla', 'xBri', 'xSon', 'xAma', '@Uni', '@IBM',\n",
       "       'xAre', 'xPla', 'xBin', 'xLin', 'xSBU', '2015', 'xMun', 'xSou',\n",
       "       'xInd', 'xGol', 'xUF', 'xBen', 'xPro', 'xOsl', '@UPS', 'xTou',\n",
       "       'xGro', 'xAmo', 'xUM', 'xCre', '2016', 'bal ', ' Stu', 'xGat',\n",
       "       'Summ', 'xDes', 'NYC', 'xUni', ' Res', 'xMtH', 'xGhe', 'xSal',\n",
       "       'xOma', 'xSFU', 'xMil', ' Dia', 'xNat', 'xFra', '-Ed ', 'xEus',\n",
       "       'Lago', 'xVir', '2017', 'xSko', 'Nair', 'xFul', 'xOrc'],\n",
       "      dtype=object)"
      ]
     },
     "execution_count": 81,
     "metadata": {},
     "output_type": "execute_result"
    }
   ],
   "source": [
    "print(ted.year.value_counts())\n",
    "ted.year.unique()"
   ]
  },
  {
   "cell_type": "code",
   "execution_count": 82,
   "metadata": {
    "collapsed": true
   },
   "outputs": [
    {
     "data": {
      "text/plain": [
       "2281                 TED2016\n",
       "761            TEDIndia 2009\n",
       "1126         TEDxBoston 2011\n",
       "373                  TED2003\n",
       "1230          TEDxMaastricht\n",
       "425                  TED2009\n",
       "835            TEDWomen 2010\n",
       "1125                TEDxEast\n",
       "1748    TEDxMidAtlantic 2013\n",
       "2371                 TED2016\n",
       "Name: event, dtype: object"
      ]
     },
     "execution_count": 82,
     "metadata": {},
     "output_type": "execute_result"
    }
   ],
   "source": [
    "# random sampling using .sample()\n",
    "ted.event.sample(10) # 10 random observations"
   ]
  },
  {
   "cell_type": "markdown",
   "metadata": {},
   "source": [
    "# Using the 'event' column is maybe not a great idea"
   ]
  },
  {
   "cell_type": "code",
   "execution_count": 52,
   "metadata": {},
   "outputs": [
    {
     "data": {
      "text/plain": [
       "0    1140825600\n",
       "1    1140825600\n",
       "2    1140739200\n",
       "3    1140912000\n",
       "4    1140566400\n",
       "Name: film_date, dtype: int64"
      ]
     },
     "execution_count": 52,
     "metadata": {},
     "output_type": "execute_result"
    }
   ],
   "source": [
    "# use film_date column instead\n",
    "ted.film_date.head()"
   ]
  },
  {
   "cell_type": "code",
   "execution_count": 53,
   "metadata": {
    "collapsed": true
   },
   "outputs": [
    {
     "data": {
      "text/plain": [
       "0      1970-01-01 00:00:01.140825600\n",
       "1      1970-01-01 00:00:01.140825600\n",
       "2      1970-01-01 00:00:01.140739200\n",
       "3      1970-01-01 00:00:01.140912000\n",
       "4      1970-01-01 00:00:01.140566400\n",
       "                    ...             \n",
       "2545   1970-01-01 00:00:01.496707200\n",
       "2546   1970-01-01 00:00:01.492992000\n",
       "2547   1970-01-01 00:00:01.492992000\n",
       "2548   1970-01-01 00:00:01.499472000\n",
       "2549   1970-01-01 00:00:01.492992000\n",
       "Name: film_date, Length: 2550, dtype: datetime64[ns]"
      ]
     },
     "execution_count": 53,
     "metadata": {},
     "output_type": "execute_result"
    }
   ],
   "source": [
    "# use pd.to_datetime() function. Usually does a good job converting, but not in this case.\n",
    "# search documentation -> for unix conversion\n",
    "pd.to_datetime(ted.film_date)"
   ]
  },
  {
   "cell_type": "code",
   "execution_count": 54,
   "metadata": {
    "collapsed": true
   },
   "outputs": [
    {
     "data": {
      "text/plain": [
       "0      2006-02-25\n",
       "1      2006-02-25\n",
       "2      2006-02-24\n",
       "3      2006-02-26\n",
       "4      2006-02-22\n",
       "          ...    \n",
       "2545   2017-06-06\n",
       "2546   2017-04-24\n",
       "2547   2017-04-24\n",
       "2548   2017-07-08\n",
       "2549   2017-04-24\n",
       "Name: film_date, Length: 2550, dtype: datetime64[ns]"
      ]
     },
     "execution_count": 54,
     "metadata": {},
     "output_type": "execute_result"
    }
   ],
   "source": [
    "pd.to_datetime(ted.film_date, unit = 's')"
   ]
  },
  {
   "cell_type": "code",
   "execution_count": 55,
   "metadata": {},
   "outputs": [],
   "source": [
    "# Creating a new column\n",
    "ted['film_datetime'] = pd.to_datetime(ted.film_date, unit = 's')"
   ]
  },
  {
   "cell_type": "code",
   "execution_count": 61,
   "metadata": {
    "scrolled": true
   },
   "outputs": [
    {
     "data": {
      "text/html": [
       "<div>\n",
       "<style scoped>\n",
       "    .dataframe tbody tr th:only-of-type {\n",
       "        vertical-align: middle;\n",
       "    }\n",
       "\n",
       "    .dataframe tbody tr th {\n",
       "        vertical-align: top;\n",
       "    }\n",
       "\n",
       "    .dataframe thead th {\n",
       "        text-align: right;\n",
       "    }\n",
       "</style>\n",
       "<table border=\"1\" class=\"dataframe\">\n",
       "  <thead>\n",
       "    <tr style=\"text-align: right;\">\n",
       "      <th></th>\n",
       "      <th>event</th>\n",
       "      <th>film_datetime</th>\n",
       "    </tr>\n",
       "  </thead>\n",
       "  <tbody>\n",
       "    <tr>\n",
       "      <td>2404</td>\n",
       "      <td>TED2016</td>\n",
       "      <td>2016-02-15</td>\n",
       "    </tr>\n",
       "    <tr>\n",
       "      <td>152</td>\n",
       "      <td>TED2007</td>\n",
       "      <td>2007-03-03</td>\n",
       "    </tr>\n",
       "    <tr>\n",
       "      <td>2401</td>\n",
       "      <td>TEDxBeaconStreet</td>\n",
       "      <td>2016-11-19</td>\n",
       "    </tr>\n",
       "    <tr>\n",
       "      <td>483</td>\n",
       "      <td>TED2009</td>\n",
       "      <td>2009-02-06</td>\n",
       "    </tr>\n",
       "    <tr>\n",
       "      <td>876</td>\n",
       "      <td>TEDWomen 2010</td>\n",
       "      <td>2010-12-08</td>\n",
       "    </tr>\n",
       "    <tr>\n",
       "      <td>1455</td>\n",
       "      <td>TED2013</td>\n",
       "      <td>2013-02-26</td>\n",
       "    </tr>\n",
       "    <tr>\n",
       "      <td>495</td>\n",
       "      <td>TEDGlobal 2009</td>\n",
       "      <td>2009-07-21</td>\n",
       "    </tr>\n",
       "    <tr>\n",
       "      <td>1253</td>\n",
       "      <td>TED2012</td>\n",
       "      <td>2012-02-28</td>\n",
       "    </tr>\n",
       "    <tr>\n",
       "      <td>169</td>\n",
       "      <td>TED2007</td>\n",
       "      <td>2007-03-03</td>\n",
       "    </tr>\n",
       "    <tr>\n",
       "      <td>120</td>\n",
       "      <td>TED2006</td>\n",
       "      <td>2006-02-02</td>\n",
       "    </tr>\n",
       "  </tbody>\n",
       "</table>\n",
       "</div>"
      ],
      "text/plain": [
       "                 event film_datetime\n",
       "2404           TED2016    2016-02-15\n",
       "152            TED2007    2007-03-03\n",
       "2401  TEDxBeaconStreet    2016-11-19\n",
       "483            TED2009    2009-02-06\n",
       "876      TEDWomen 2010    2010-12-08\n",
       "1455           TED2013    2013-02-26\n",
       "495     TEDGlobal 2009    2009-07-21\n",
       "1253           TED2012    2012-02-28\n",
       "169            TED2007    2007-03-03\n",
       "120            TED2006    2006-02-02"
      ]
     },
     "execution_count": 61,
     "metadata": {},
     "output_type": "execute_result"
    }
   ],
   "source": [
    "# Check the results\n",
    "\n",
    "# Passing in a list of columns to display in the new DF\n",
    "ted[['event', 'film_datetime']].sample(10)\n",
    "# sample looks good"
   ]
  },
  {
   "cell_type": "code",
   "execution_count": 95,
   "metadata": {},
   "outputs": [],
   "source": [
    "# drop the 'year' column\n",
    "ted.drop('year', axis=1, inplace = True)"
   ]
  },
  {
   "cell_type": "code",
   "execution_count": 63,
   "metadata": {
    "collapsed": true
   },
   "outputs": [
    {
     "data": {
      "text/plain": [
       "comments                       int64\n",
       "description                   object\n",
       "duration                       int64\n",
       "event                         object\n",
       "film_date                      int64\n",
       "languages                      int64\n",
       "main_speaker                  object\n",
       "name                          object\n",
       "num_speaker                    int64\n",
       "published_date                 int64\n",
       "ratings                       object\n",
       "related_talks                 object\n",
       "speaker_occupation            object\n",
       "tags                          object\n",
       "title                         object\n",
       "url                           object\n",
       "views                          int64\n",
       "comments_per_view            float64\n",
       "views_per_comment            float64\n",
       "film_datetime         datetime64[ns]\n",
       "dtype: object"
      ]
     },
     "execution_count": 63,
     "metadata": {},
     "output_type": "execute_result"
    }
   ],
   "source": [
    "ted.dtypes # converted to datetime datatype"
   ]
  },
  {
   "cell_type": "code",
   "execution_count": 64,
   "metadata": {
    "collapsed": true
   },
   "outputs": [
    {
     "data": {
      "text/plain": [
       "0       2006\n",
       "1       2006\n",
       "2       2006\n",
       "3       2006\n",
       "4       2006\n",
       "        ... \n",
       "2545    2017\n",
       "2546    2017\n",
       "2547    2017\n",
       "2548    2017\n",
       "2549    2017\n",
       "Name: film_datetime, Length: 2550, dtype: int64"
      ]
     },
     "execution_count": 64,
     "metadata": {},
     "output_type": "execute_result"
    }
   ],
   "source": [
    "# use .dt attributes\n",
    "\n",
    "ted.film_datetime.dt.year"
   ]
  },
  {
   "cell_type": "code",
   "execution_count": 65,
   "metadata": {
    "collapsed": true
   },
   "outputs": [
    {
     "data": {
      "text/plain": [
       "2013    270\n",
       "2011    270\n",
       "2010    267\n",
       "2012    267\n",
       "2016    246\n",
       "2015    239\n",
       "2014    237\n",
       "2009    232\n",
       "2007    114\n",
       "2017     98\n",
       "2008     84\n",
       "2005     66\n",
       "2006     50\n",
       "2003     33\n",
       "2004     33\n",
       "2002     27\n",
       "1998      6\n",
       "2001      5\n",
       "1983      1\n",
       "1991      1\n",
       "1994      1\n",
       "1990      1\n",
       "1984      1\n",
       "1972      1\n",
       "Name: film_datetime, dtype: int64"
      ]
     },
     "execution_count": 65,
     "metadata": {},
     "output_type": "execute_result"
    }
   ],
   "source": [
    "# talks per year\n",
    "ted.film_datetime.dt.year.value_counts() # panda series"
   ]
  },
  {
   "cell_type": "code",
   "execution_count": 68,
   "metadata": {
    "collapsed": true
   },
   "outputs": [
    {
     "data": {
      "text/plain": [
       "<matplotlib.axes._subplots.AxesSubplot at 0x1a25143160>"
      ]
     },
     "execution_count": 68,
     "metadata": {},
     "output_type": "execute_result"
    },
    {
     "data": {
      "image/png": "[encoded data removed]",
      "text/plain": [
       "<Figure size 432x288 with 1 Axes>"
      ]
     },
     "metadata": {
      "needs_background": "light"
     },
     "output_type": "display_data"
    }
   ],
   "source": [
    "# Trying to plot the talks per year in a line graph\n",
    "ted.film_datetime.dt.year.value_counts().plot() #looks funky\n",
    "\n",
    "# wrong b/c .plot() will plot in the order of observations in the list"
   ]
  },
  {
   "cell_type": "code",
   "execution_count": 17,
   "metadata": {
    "scrolled": true
   },
   "outputs": [
    {
     "data": {
      "text/plain": [
       "<matplotlib.axes._subplots.AxesSubplot at 0x11b027da0>"
      ]
     },
     "execution_count": 17,
     "metadata": {},
     "output_type": "execute_result"
    },
    {
     "data": {
      "image/png": "[encoded data removed]",
      "text/plain": [
       "<Figure size 432x288 with 1 Axes>"
      ]
     },
     "metadata": {
      "needs_background": "light"
     },
     "output_type": "display_data"
    }
   ],
   "source": [
    "# sort the index 'years' using .sort_index()\n",
    "ted.film_datetime.dt.year.value_counts().sort_index().plot()"
   ]
  },
  {
   "cell_type": "markdown",
   "metadata": {},
   "source": [
    "# Is there really a sharp decline in TED talks in 2017?"
   ]
  },
  {
   "cell_type": "code",
   "execution_count": 70,
   "metadata": {},
   "outputs": [
    {
     "name": "stdout",
     "output_type": "stream",
     "text": [
      "2017-08-27 00:00:00\n"
     ]
    },
    {
     "data": {
      "text/plain": [
       "Timestamp('2016-12-13 00:00:00')"
      ]
     },
     "execution_count": 70,
     "metadata": {},
     "output_type": "execute_result"
    }
   ],
   "source": [
    "# incomplete data\n",
    "print(ted.film_datetime.max()) # 2017 data only goes up to August\n",
    "# ted.film_datetime[ted.film_datetime < '2017-01-01'].max() # latest 2016 talk was 12/13\n",
    "ted.loc[ted.film_datetime < '2017-01-01', 'film_datetime'].max()"
   ]
  },
  {
   "cell_type": "markdown",
   "metadata": {},
   "source": [
    "# 5. What were the \"best\" events in TED history to attend?"
   ]
  },
  {
   "cell_type": "code",
   "execution_count": 124,
   "metadata": {
    "scrolled": true
   },
   "outputs": [],
   "source": [
    "# event refers to 'event' column. i.e. TED2014\n",
    "# events with lowest views per comment average with at least 3 talks\n",
    "avg_views_per_comment = ted.groupby('event').views_per_comment.mean().sort_values()"
   ]
  },
  {
   "cell_type": "code",
   "execution_count": 132,
   "metadata": {},
   "outputs": [
    {
     "data": {
      "text/plain": [
       "TEDxGrandRapids    1\n",
       "TEDxCHUV           1\n",
       "TEDxUIUC           1\n",
       "TEDxBoston 2009    1\n",
       "TEDxOrangeCoast    1\n",
       "Name: event, dtype: int64"
      ]
     },
     "execution_count": 132,
     "metadata": {},
     "output_type": "execute_result"
    }
   ],
   "source": [
    "ted.event.value_counts().tail()"
   ]
  },
  {
   "cell_type": "code",
   "execution_count": 32,
   "metadata": {
    "scrolled": true
   },
   "outputs": [
    {
     "data": {
      "text/html": [
       "<div>\n",
       "<style scoped>\n",
       "    .dataframe tbody tr th:only-of-type {\n",
       "        vertical-align: middle;\n",
       "    }\n",
       "\n",
       "    .dataframe tbody tr th {\n",
       "        vertical-align: top;\n",
       "    }\n",
       "\n",
       "    .dataframe thead th {\n",
       "        text-align: right;\n",
       "    }\n",
       "</style>\n",
       "<table border=\"1\" class=\"dataframe\">\n",
       "  <thead>\n",
       "    <tr style=\"text-align: right;\">\n",
       "      <th></th>\n",
       "      <th>comments</th>\n",
       "      <th>description</th>\n",
       "      <th>duration</th>\n",
       "      <th>event</th>\n",
       "      <th>film_date</th>\n",
       "      <th>languages</th>\n",
       "      <th>main_speaker</th>\n",
       "      <th>name</th>\n",
       "      <th>num_speaker</th>\n",
       "      <th>published_date</th>\n",
       "      <th>ratings</th>\n",
       "      <th>related_talks</th>\n",
       "      <th>speaker_occupation</th>\n",
       "      <th>tags</th>\n",
       "      <th>title</th>\n",
       "      <th>url</th>\n",
       "      <th>views</th>\n",
       "      <th>comments_per_view</th>\n",
       "      <th>film_datetime</th>\n",
       "      <th>views_per_comment</th>\n",
       "    </tr>\n",
       "  </thead>\n",
       "  <tbody>\n",
       "    <tr>\n",
       "      <td>1250</td>\n",
       "      <td>208</td>\n",
       "      <td>Bartenders need to know your age, retailers ne...</td>\n",
       "      <td>1023</td>\n",
       "      <td>TEDxSussexUniversity</td>\n",
       "      <td>1335484800</td>\n",
       "      <td>18</td>\n",
       "      <td>David Birch</td>\n",
       "      <td>David Birch: A new way to stop identity theft</td>\n",
       "      <td>1</td>\n",
       "      <td>1338732516</td>\n",
       "      <td>[{'id': 8, 'name': 'Informative', 'count': 145...</td>\n",
       "      <td>[{'id': 1132, 'hero': 'https://pe.tedcdn.com/i...</td>\n",
       "      <td>Digital money and identity consultant</td>\n",
       "      <td>['TEDx', 'security', 'self', 'technology']</td>\n",
       "      <td>A new way to stop identity theft</td>\n",
       "      <td>https://www.ted.com/talks/david_birch_identity...</td>\n",
       "      <td>174326</td>\n",
       "      <td>0.001193</td>\n",
       "      <td>2012-04-27</td>\n",
       "      <td>838.105769</td>\n",
       "    </tr>\n",
       "  </tbody>\n",
       "</table>\n",
       "</div>"
      ],
      "text/plain": [
       "      comments                                        description  duration  \\\n",
       "1250       208  Bartenders need to know your age, retailers ne...      1023   \n",
       "\n",
       "                     event   film_date  languages main_speaker  \\\n",
       "1250  TEDxSussexUniversity  1335484800         18  David Birch   \n",
       "\n",
       "                                               name  num_speaker  \\\n",
       "1250  David Birch: A new way to stop identity theft            1   \n",
       "\n",
       "      published_date                                            ratings  \\\n",
       "1250      1338732516  [{'id': 8, 'name': 'Informative', 'count': 145...   \n",
       "\n",
       "                                          related_talks  \\\n",
       "1250  [{'id': 1132, 'hero': 'https://pe.tedcdn.com/i...   \n",
       "\n",
       "                         speaker_occupation  \\\n",
       "1250  Digital money and identity consultant   \n",
       "\n",
       "                                            tags  \\\n",
       "1250  ['TEDx', 'security', 'self', 'technology']   \n",
       "\n",
       "                                 title  \\\n",
       "1250  A new way to stop identity theft   \n",
       "\n",
       "                                                    url   views  \\\n",
       "1250  https://www.ted.com/talks/david_birch_identity...  174326   \n",
       "\n",
       "      comments_per_view film_datetime  views_per_comment  \n",
       "1250           0.001193    2012-04-27         838.105769  "
      ]
     },
     "execution_count": 32,
     "metadata": {},
     "output_type": "execute_result"
    }
   ],
   "source": [
    "ted.loc[ted.event == 'TEDxSussexUniversity'] #only 1 talk"
   ]
  },
  {
   "cell_type": "code",
   "execution_count": 133,
   "metadata": {
    "collapsed": true
   },
   "outputs": [
    {
     "data": {
      "text/plain": [
       "['TED2014',\n",
       " 'TED2009',\n",
       " 'TED2016',\n",
       " 'TED2013',\n",
       " 'TED2015',\n",
       " 'TED2011',\n",
       " 'TEDGlobal 2012',\n",
       " 'TEDGlobal 2011',\n",
       " 'TED2007',\n",
       " 'TED2010',\n",
       " 'TED2017',\n",
       " 'TEDGlobal 2013',\n",
       " 'TEDGlobal 2009',\n",
       " 'TED2012',\n",
       " 'TED2008',\n",
       " 'TEDGlobal 2010',\n",
       " 'TEDGlobal 2014',\n",
       " 'TED2006',\n",
       " 'TED2005',\n",
       " 'TEDIndia 2009',\n",
       " 'TEDWomen 2010',\n",
       " 'TED2003',\n",
       " 'TEDSummit',\n",
       " 'TED2004',\n",
       " 'TEDWomen 2015',\n",
       " 'TED2002',\n",
       " 'TEDGlobal 2007',\n",
       " 'TEDGlobal 2005',\n",
       " 'TEDWomen 2016',\n",
       " 'TEDxBeaconStreet',\n",
       " 'TED Talks Live',\n",
       " 'TEDNYC',\n",
       " 'Mission Blue Voyage',\n",
       " 'TEDxMidAtlantic',\n",
       " 'EG 2007',\n",
       " 'TEDGlobal>London',\n",
       " 'TEDxSydney',\n",
       " 'TEDxSummit',\n",
       " 'TEDGlobal>Geneva',\n",
       " 'TEDCity2.0',\n",
       " 'TEDMED 2009',\n",
       " 'TEDSalon NY2014',\n",
       " 'TED@BCG Paris',\n",
       " 'TEDSalon NY2013',\n",
       " 'TEDSalon Berlin 2014',\n",
       " 'TEDMED 2014',\n",
       " 'TEDMED 2012',\n",
       " 'TED@NYC',\n",
       " 'TED@IBM',\n",
       " 'TEDMED 2016',\n",
       " 'TEDxExeter',\n",
       " 'TEDxStanford',\n",
       " 'TED-Ed',\n",
       " 'TEDxUSC',\n",
       " 'TEDWomen 2013',\n",
       " 'Serious Play 2008',\n",
       " 'TEDxBrussels',\n",
       " 'Mission Blue II',\n",
       " 'TEDxCambridge',\n",
       " 'TEDMED 2015',\n",
       " 'TEDxCaltech',\n",
       " 'TED Talks Education',\n",
       " 'TEDGlobalLondon',\n",
       " 'TEDMED 2013',\n",
       " 'EG 2008',\n",
       " 'TEDxRiodelaPlata',\n",
       " 'TEDxPSU',\n",
       " 'TEDxWomen 2011',\n",
       " 'TED Fellows Retreat 2015',\n",
       " 'TEDYouth 2014',\n",
       " 'TEDSalon London 2010',\n",
       " 'TED@BCG San Francisco',\n",
       " 'TEDMED 2011',\n",
       " 'TEDxCERN',\n",
       " 'TEDSalon London Fall 2012',\n",
       " 'TEDxBoston 2011',\n",
       " 'TEDSalon London Spring 2011',\n",
       " 'TEDxWomen 2012',\n",
       " 'Taste3 2008',\n",
       " 'INK Conference',\n",
       " 'TEDxBoston 2012',\n",
       " 'TED1998',\n",
       " 'TEDxNewYork',\n",
       " 'TEDSalon NY2011',\n",
       " 'TED@State Street Boston',\n",
       " 'TEDxHousesOfParliament',\n",
       " 'TED@UPS',\n",
       " 'TED@Cannes',\n",
       " 'TEDxEast',\n",
       " 'TED Residency',\n",
       " 'TEDYouth 2015',\n",
       " 'TED Fellows Retreat 2013',\n",
       " 'TEDxRainier',\n",
       " 'TEDSalon London Spring 2012',\n",
       " 'TED@State',\n",
       " 'TEDxVancouver',\n",
       " 'TEDSalon 2006',\n",
       " 'TED in the Field',\n",
       " 'TEDxAmsterdam',\n",
       " 'TEDxToronto 2010',\n",
       " 'TEDxMileHigh',\n",
       " 'TED@New York',\n",
       " 'TEDxWarwick',\n",
       " 'TEDxAustin',\n",
       " 'TEDxKC',\n",
       " 'TEDxMaastricht',\n",
       " 'TEDSalon NY2012',\n",
       " 'TEDxPhoenix',\n",
       " 'TED Studio',\n",
       " 'TEDMED 2010',\n",
       " 'TED@BCG London',\n",
       " 'TEDxChange',\n",
       " 'TEDxVienna',\n",
       " 'TEDActive 2011',\n",
       " 'TEDxRC2',\n",
       " 'TEDxBerlin',\n",
       " 'TEDxPeachtree',\n",
       " 'TEDGlobal 2017',\n",
       " 'TEDYouth 2013',\n",
       " 'TEDYouth 2011',\n",
       " 'TEDxOilSpill',\n",
       " 'TED@Intel',\n",
       " 'Full Spectrum Auditions',\n",
       " 'TEDxBoulder',\n",
       " 'TEDxCanberra',\n",
       " 'Business Innovation Factory',\n",
       " 'TEDxThessaloniki',\n",
       " 'TEDxYYC',\n",
       " 'TEDxBoston',\n",
       " 'TEDxMarin',\n",
       " 'TED@BCG Singapore',\n",
       " 'TEDxManhattanBeach',\n",
       " 'TEDxTC',\n",
       " 'TEDxSMU',\n",
       " 'TED2001',\n",
       " 'RSA Animate',\n",
       " 'TEDxGreatPacificGarbagePatch',\n",
       " 'TED@Unilever',\n",
       " 'TEDxMidwest',\n",
       " 'TEDxDublin',\n",
       " 'Chautauqua Institution',\n",
       " 'TEDSalon 2009 Compassion']"
      ]
     },
     "execution_count": 133,
     "metadata": {},
     "output_type": "execute_result"
    }
   ],
   "source": [
    "qualified_events = list(ted.event.value_counts()[ted.event.value_counts() >= 3].index)"
   ]
  },
  {
   "cell_type": "code",
   "execution_count": 41,
   "metadata": {
    "collapsed": true
   },
   "outputs": [
    {
     "data": {
      "text/plain": [
       "['New York State Senate',\n",
       " 'TEDxSussexUniversity',\n",
       " 'TEDxVictoria',\n",
       " 'TEDxSantaCruz',\n",
       " 'TEDxWaterloo',\n",
       " 'DICE Summit 2010',\n",
       " 'Fort Worth City Council',\n",
       " 'TEDxSanMigueldeAllende',\n",
       " 'Justice with Michael Sandel',\n",
       " 'Web 2.0 Expo 2008',\n",
       " 'TEDxDirigo',\n",
       " 'TEDYouth 2012',\n",
       " 'TEDxIslay',\n",
       " 'AORN Congress',\n",
       " 'TEDxFiDiWomen',\n",
       " 'TEDxMIA',\n",
       " 'TEDxKids@Brussels',\n",
       " 'TEDxABQ',\n",
       " 'TEDxOilSpill',\n",
       " 'TEDxNASA@SiliconValley',\n",
       " 'Handheld Learning',\n",
       " 'TEDxEdmonton',\n",
       " 'NextGen:Charity',\n",
       " 'TEDxUCL',\n",
       " 'Michael Howard Studios',\n",
       " 'Royal Institution',\n",
       " 'TEDxDU 2010',\n",
       " 'TEDxObserver',\n",
       " 'TEDxPittsburgh',\n",
       " 'TEDxMonterey',\n",
       " 'TEDxJaffa 2012',\n",
       " 'TED-Ed',\n",
       " \"Eric Whitacre's Virtual Choir\",\n",
       " 'TEDxYYC',\n",
       " 'TEDSalon 2009 Compassion',\n",
       " 'RSA Animate',\n",
       " 'TEDxMiamiUniversity',\n",
       " 'Toronto Youth Corps',\n",
       " 'TEDxBoston 2010',\n",
       " 'TEDxGeorgetown',\n",
       " 'TEDxNextGenerationAsheville',\n",
       " 'The Do Lectures',\n",
       " 'TEDSalon NY2012',\n",
       " 'TEDxPhoenix',\n",
       " 'Princeton University',\n",
       " 'TEDxBG',\n",
       " 'TEDxChange',\n",
       " \"TEDxO'Porto\",\n",
       " 'TEDxPortofSpain',\n",
       " 'Elizabeth G. Anderson School',\n",
       " 'TEDxSanJoseCA',\n",
       " 'Gel Conference',\n",
       " 'TEDxBeirut',\n",
       " 'BBC TV',\n",
       " 'University of California',\n",
       " 'SoulPancake',\n",
       " 'TEDxColbyCollege',\n",
       " 'Business Innovation Factory',\n",
       " 'Arbejdsglaede Live',\n",
       " 'Bowery Poetry Club',\n",
       " 'TEDxPeachtree',\n",
       " 'TEDxZurich 2011',\n",
       " 'TEDxGrandRapids',\n",
       " 'TEDxUIUC',\n",
       " 'Harvard University',\n",
       " 'TEDxTeen',\n",
       " 'Stanford University',\n",
       " 'TED Senior Fellows at TEDGlobal 2010',\n",
       " 'TEDxNewy',\n",
       " 'TEDxEast',\n",
       " 'TEDxBoston 2011',\n",
       " 'TEDxAmsterdam',\n",
       " 'TEDxNorthwesternU',\n",
       " 'TEDxMaastricht',\n",
       " 'Carnegie Mellon University',\n",
       " 'TEDxDubai',\n",
       " 'TEDxTC',\n",
       " 'TEDxAsheville',\n",
       " 'TEDxUdeM',\n",
       " 'TEDMED 2011',\n",
       " 'TEDxNYED',\n",
       " 'TEDxRainier',\n",
       " 'TEDSalon London 2010',\n",
       " 'TEDxSiliconValley',\n",
       " 'TEDGlobal 2010',\n",
       " 'TEDxKids@Ambleside',\n",
       " 'TEDxDanubia',\n",
       " 'TEDxParis 2010',\n",
       " 'Chautauqua Institution',\n",
       " 'TEDxHelvetia',\n",
       " 'TEDxOrangeCoast',\n",
       " 'TEDxCanberra',\n",
       " 'TEDMED 2010',\n",
       " 'TEDSalon 2007 Hot Science',\n",
       " 'TEDxSF',\n",
       " 'TEDxLondonBusinessSchool',\n",
       " 'TEDWomen 2010',\n",
       " 'TEDxAtlanta',\n",
       " 'TEDActive 2011',\n",
       " 'TEDxDeExtinction',\n",
       " 'TEDxAustin',\n",
       " 'TEDxKrakow',\n",
       " 'TEDxHousesOfParliament',\n",
       " 'TEDxToronto 2011',\n",
       " 'TEDxMonroeCorrectionalComplex',\n",
       " 'TEDIndia 2009',\n",
       " 'TEDxSeattleU',\n",
       " 'Mission Blue Voyage',\n",
       " 'TED2010',\n",
       " 'TED@State',\n",
       " 'Full Spectrum Auditions',\n",
       " 'TEDxZurich 2012',\n",
       " 'TEDxUW',\n",
       " 'TEDxNijmegen',\n",
       " 'TED@Bangalore',\n",
       " 'TEDxHampshireCollege',\n",
       " 'TEDxToronto 2010',\n",
       " 'TEDxMontreal',\n",
       " 'TED@London',\n",
       " 'INK Conference',\n",
       " 'TEDxUSC',\n",
       " 'TED@Intel',\n",
       " 'TEDxRC2',\n",
       " 'TEDxSouthBank',\n",
       " 'TEDxPennQuarter',\n",
       " 'TEDxNASA',\n",
       " 'TEDxWomen 2012',\n",
       " 'TED@SXSWi',\n",
       " 'TEDxWomen 2011',\n",
       " 'TEDxBoulder 2011',\n",
       " 'TEDxBoston 2009',\n",
       " 'TEDxVienna',\n",
       " 'TED@Cannes',\n",
       " 'TEDxTelAviv 2010',\n",
       " 'TEDCity2.0',\n",
       " 'EG 2007',\n",
       " 'TEDxYouth@Manchester',\n",
       " 'TEDGlobal 2011',\n",
       " 'TEDxDU 2011',\n",
       " 'TEDxMuncyStatePrison',\n",
       " 'TEDxBoston 2012',\n",
       " 'TEDxMidwest',\n",
       " 'TEDGlobal 2007',\n",
       " 'TEDxSanDiego',\n",
       " 'TEDSalon London Spring 2011',\n",
       " 'TED1994',\n",
       " 'TEDPrize@UN',\n",
       " 'TEDxManhattan',\n",
       " 'TED2011',\n",
       " 'TEDxConcordiaUPortland',\n",
       " 'TEDxSBU',\n",
       " 'TEDGlobal 2009',\n",
       " 'TED2009',\n",
       " 'TEDxCaltech',\n",
       " 'TED@MotorCity',\n",
       " 'TEDxGöteborg 2010',\n",
       " 'TEDxEastEnd',\n",
       " 'LIFT 2007',\n",
       " 'TEDxEQChCh',\n",
       " 'TEDxCMU',\n",
       " 'TED in the Field',\n",
       " 'TEDSalon London Spring 2012',\n",
       " 'TED2013',\n",
       " 'TEDxGoodenoughCollege',\n",
       " 'TEDxWarwick',\n",
       " 'Skoll World Forum 2007',\n",
       " 'TEDxSMU',\n",
       " 'TEDxConcorde',\n",
       " 'TEDMED 2012',\n",
       " 'TEDGlobal 2012',\n",
       " 'TEDYouth 2013',\n",
       " 'Serious Play 2008',\n",
       " 'TEDSalon NY2011',\n",
       " 'TEDxColoradoSprings',\n",
       " 'TED1998',\n",
       " 'TEDxThessaloniki',\n",
       " 'World Science Festival',\n",
       " 'TED2007',\n",
       " 'TEDxColumbus',\n",
       " 'TEDxBoston',\n",
       " 'TEDxBerkeley',\n",
       " 'TEDMED 2009',\n",
       " 'TED2001',\n",
       " 'TED2012',\n",
       " 'TEDYouth 2011',\n",
       " 'TEDxFrankfurt',\n",
       " 'TEDxHouston',\n",
       " 'TEDSalon NY2014',\n",
       " 'TEDSalon London Fall 2012',\n",
       " 'TEDxSummit',\n",
       " 'TEDxDublin',\n",
       " 'TEDWomen 2013',\n",
       " 'TEDxWinnipeg',\n",
       " 'TEDxGlasgow',\n",
       " 'TED2003',\n",
       " 'Taste3 2008',\n",
       " 'TED2008',\n",
       " 'DLD 2007',\n",
       " 'TEDxRotterdam 2010',\n",
       " 'TED@BCG Singapore',\n",
       " 'TEDxUMKC',\n",
       " 'TEDGlobal 2005',\n",
       " 'TEDxSeoul',\n",
       " 'TEDGlobal 2013',\n",
       " 'TEDxBratislava',\n",
       " 'EG 2008',\n",
       " 'TEDGlobalLondon',\n",
       " 'TED@New York',\n",
       " 'TED2006',\n",
       " 'TEDxBerlin',\n",
       " 'TED2005',\n",
       " 'TEDxGreatPacificGarbagePatch',\n",
       " 'TED Talks Education',\n",
       " 'TEDxProvidence',\n",
       " 'TED@Johannesburg',\n",
       " 'TEDxAmericanRiviera',\n",
       " 'TED2002',\n",
       " 'TEDxMarin',\n",
       " 'TED@Nairobi',\n",
       " 'TEDSalon NY2013',\n",
       " 'TEDxDelft',\n",
       " 'TEDSalon 2006',\n",
       " 'TED Prize Wish',\n",
       " 'TED Dialogues',\n",
       " 'TEDMED 2013',\n",
       " 'TEDxUofM',\n",
       " 'TEDxMidAtlantic 2013',\n",
       " 'TEDActive 2014',\n",
       " 'TEDxVancouver',\n",
       " 'TEDxMet',\n",
       " 'TEDxBoulder',\n",
       " 'TEDxBrussels',\n",
       " 'TEDxOmaha',\n",
       " 'TEDxWitsUniversity',\n",
       " 'TEDxMaui',\n",
       " 'TEDxArendal',\n",
       " 'TEDxSonomaCounty',\n",
       " 'TED2004',\n",
       " 'TED@Unilever',\n",
       " 'TED@State Street London',\n",
       " 'TED Fellows Retreat 2013',\n",
       " 'TED@NYC',\n",
       " 'TEDxCHUV',\n",
       " 'TED1984',\n",
       " 'TEDxCaFoscariU',\n",
       " 'TEDxKC',\n",
       " 'TEDxBrighton',\n",
       " 'Global Witness HQ',\n",
       " 'TEDxBloomington',\n",
       " 'TEDMED 2014',\n",
       " 'TEDxAmoskeagMillyard',\n",
       " 'TEDxCannes',\n",
       " 'TED2014',\n",
       " 'TEDxHogeschoolUtrecht',\n",
       " 'TED@BCG San Francisco',\n",
       " 'TEDSalon London 2009',\n",
       " 'TEDxRiodelaPlata',\n",
       " 'TEDxPuget Sound ',\n",
       " 'TEDxImperialCollege',\n",
       " 'TEDxBend',\n",
       " 'TEDxLinnaeusUniversity',\n",
       " 'TEDxParis 2012',\n",
       " 'TEDxClaremontColleges',\n",
       " 'TEDSalon Berlin 2014',\n",
       " 'TED2015',\n",
       " 'TEDxManhattanBeach',\n",
       " 'TEDGlobal 2014',\n",
       " 'TEDxDesMoines',\n",
       " 'TEDxKyoto',\n",
       " 'TEDxSydney',\n",
       " 'TEDxChapmanU',\n",
       " 'TEDxUM',\n",
       " 'TEDxPlaceDesNations',\n",
       " 'TEDxJaffa 2013',\n",
       " 'TEDxPSU',\n",
       " 'TEDxMidAtlantic',\n",
       " 'TED@State Street Boston',\n",
       " 'TEDxZurich 2013',\n",
       " 'TEDxCERN',\n",
       " 'TEDxPortland',\n",
       " 'TEDxTokyo',\n",
       " 'TEDxAmazonia',\n",
       " 'TEDWomen 2016',\n",
       " 'TEDSalon London Fall 2011',\n",
       " 'TED Fellows 2015',\n",
       " 'TEDxCambridge',\n",
       " 'TEDxUniversityofNevada',\n",
       " 'TEDxIndianapolis',\n",
       " 'TEDxExeter',\n",
       " 'TEDxToulouse',\n",
       " 'TEDxOrcasIsland',\n",
       " 'TEDxOslo',\n",
       " 'TEDxEuston',\n",
       " 'TED@BCG Berlin',\n",
       " 'TEDxToronto',\n",
       " 'TEDxPerth',\n",
       " 'TEDxMileHigh',\n",
       " 'TEDWomen 2015',\n",
       " 'TED@IBM',\n",
       " 'TEDxNewYork',\n",
       " 'TEDxSaltLakeCity',\n",
       " 'TEDxGoldenGatePark 2012',\n",
       " 'TEDxBeaconStreet',\n",
       " 'TED Fellows Retreat 2015',\n",
       " 'TEDxStanford',\n",
       " 'TEDxLeuvenSalon',\n",
       " 'TEDSummit',\n",
       " 'TEDYouth 2014',\n",
       " 'TED Talks Live',\n",
       " 'TEDGlobal>London',\n",
       " 'TEDxGhent',\n",
       " 'TEDLagos Ideas Search',\n",
       " 'Mission Blue II',\n",
       " 'TED2016',\n",
       " 'TEDxFulbrightDublin',\n",
       " 'TEDxNorrkoping',\n",
       " 'TEDxBinghamtonUniversity',\n",
       " 'TEDxSanQuentin',\n",
       " 'TEDSalon NY2015',\n",
       " 'TEDxYouth@Sydney',\n",
       " 'TEDGlobal>Geneva',\n",
       " 'TED@UPS',\n",
       " 'TEDxUF',\n",
       " 'TEDxColumbusWomen',\n",
       " 'TEDxPenn',\n",
       " 'TEDxIndianaUniversity',\n",
       " 'TEDxCrenshaw',\n",
       " 'TEDMED 2015',\n",
       " 'TED@BCG London',\n",
       " 'TED2017',\n",
       " 'TEDxVirginiaTech',\n",
       " 'TEDxGroningen',\n",
       " 'TEDxCreativeCoast',\n",
       " 'TEDxManchester',\n",
       " 'TEDxAthens',\n",
       " 'TED Studio',\n",
       " 'TEDxNatick',\n",
       " 'TEDxGatewayWomen',\n",
       " 'TED@BCG Paris',\n",
       " 'TEDxSFU',\n",
       " 'TED Residency',\n",
       " 'TEDxMtHood',\n",
       " 'TEDYouth 2015',\n",
       " 'TED-Ed Weekend',\n",
       " 'TEDActive 2015',\n",
       " 'TEDMED 2016',\n",
       " 'TEDNYC',\n",
       " 'TEDxPennsylvaniaAvenue',\n",
       " 'TEDNairobi Ideas Search',\n",
       " 'TED1990',\n",
       " 'TEDxZurich',\n",
       " 'TED@StateStreet Boston',\n",
       " 'TEDGlobal 2017',\n",
       " 'TEDxSkoll',\n",
       " 'TEDxHamburg']"
      ]
     },
     "execution_count": 41,
     "metadata": {},
     "output_type": "execute_result"
    }
   ],
   "source": [
    "list(avg_views_per_comment.index)"
   ]
  },
  {
   "cell_type": "code",
   "execution_count": 65,
   "metadata": {},
   "outputs": [],
   "source": [
    "drop_list = set(avg_views_per_comment.index).difference(qualified_events)"
   ]
  },
  {
   "cell_type": "code",
   "execution_count": 66,
   "metadata": {
    "collapsed": true
   },
   "outputs": [
    {
     "data": {
      "text/plain": [
       "{'AORN Congress',\n",
       " 'Arbejdsglaede Live',\n",
       " 'BBC TV',\n",
       " 'Bowery Poetry Club',\n",
       " 'Carnegie Mellon University',\n",
       " 'DICE Summit 2010',\n",
       " 'DLD 2007',\n",
       " 'Elizabeth G. Anderson School',\n",
       " \"Eric Whitacre's Virtual Choir\",\n",
       " 'Fort Worth City Council',\n",
       " 'Gel Conference',\n",
       " 'Global Witness HQ',\n",
       " 'Handheld Learning',\n",
       " 'Harvard University',\n",
       " 'Justice with Michael Sandel',\n",
       " 'LIFT 2007',\n",
       " 'Michael Howard Studios',\n",
       " 'New York State Senate',\n",
       " 'NextGen:Charity',\n",
       " 'Princeton University',\n",
       " 'Royal Institution',\n",
       " 'Skoll World Forum 2007',\n",
       " 'SoulPancake',\n",
       " 'Stanford University',\n",
       " 'TED Dialogues',\n",
       " 'TED Fellows 2015',\n",
       " 'TED Prize Wish',\n",
       " 'TED Senior Fellows at TEDGlobal 2010',\n",
       " 'TED-Ed Weekend',\n",
       " 'TED1984',\n",
       " 'TED1990',\n",
       " 'TED1994',\n",
       " 'TED@BCG Berlin',\n",
       " 'TED@Bangalore',\n",
       " 'TED@Johannesburg',\n",
       " 'TED@London',\n",
       " 'TED@MotorCity',\n",
       " 'TED@Nairobi',\n",
       " 'TED@SXSWi',\n",
       " 'TED@State Street London',\n",
       " 'TED@StateStreet Boston',\n",
       " 'TEDActive 2014',\n",
       " 'TEDActive 2015',\n",
       " 'TEDLagos Ideas Search',\n",
       " 'TEDNairobi Ideas Search',\n",
       " 'TEDPrize@UN',\n",
       " 'TEDSalon 2007 Hot Science',\n",
       " 'TEDSalon London 2009',\n",
       " 'TEDSalon London Fall 2011',\n",
       " 'TEDSalon NY2015',\n",
       " 'TEDYouth 2012',\n",
       " 'TEDxABQ',\n",
       " 'TEDxAmazonia',\n",
       " 'TEDxAmericanRiviera',\n",
       " 'TEDxAmoskeagMillyard',\n",
       " 'TEDxArendal',\n",
       " 'TEDxAsheville',\n",
       " 'TEDxAthens',\n",
       " 'TEDxAtlanta',\n",
       " 'TEDxBG',\n",
       " 'TEDxBeirut',\n",
       " 'TEDxBend',\n",
       " 'TEDxBerkeley',\n",
       " 'TEDxBinghamtonUniversity',\n",
       " 'TEDxBloomington',\n",
       " 'TEDxBoston 2009',\n",
       " 'TEDxBoston 2010',\n",
       " 'TEDxBoulder 2011',\n",
       " 'TEDxBratislava',\n",
       " 'TEDxBrighton',\n",
       " 'TEDxCHUV',\n",
       " 'TEDxCMU',\n",
       " 'TEDxCaFoscariU',\n",
       " 'TEDxCannes',\n",
       " 'TEDxChapmanU',\n",
       " 'TEDxClaremontColleges',\n",
       " 'TEDxColbyCollege',\n",
       " 'TEDxColoradoSprings',\n",
       " 'TEDxColumbus',\n",
       " 'TEDxColumbusWomen',\n",
       " 'TEDxConcorde',\n",
       " 'TEDxConcordiaUPortland',\n",
       " 'TEDxCreativeCoast',\n",
       " 'TEDxCrenshaw',\n",
       " 'TEDxDU 2010',\n",
       " 'TEDxDU 2011',\n",
       " 'TEDxDanubia',\n",
       " 'TEDxDeExtinction',\n",
       " 'TEDxDelft',\n",
       " 'TEDxDesMoines',\n",
       " 'TEDxDirigo',\n",
       " 'TEDxDubai',\n",
       " 'TEDxEQChCh',\n",
       " 'TEDxEastEnd',\n",
       " 'TEDxEdmonton',\n",
       " 'TEDxEuston',\n",
       " 'TEDxFiDiWomen',\n",
       " 'TEDxFrankfurt',\n",
       " 'TEDxFulbrightDublin',\n",
       " 'TEDxGatewayWomen',\n",
       " 'TEDxGeorgetown',\n",
       " 'TEDxGhent',\n",
       " 'TEDxGlasgow',\n",
       " 'TEDxGoldenGatePark 2012',\n",
       " 'TEDxGoodenoughCollege',\n",
       " 'TEDxGrandRapids',\n",
       " 'TEDxGroningen',\n",
       " 'TEDxGöteborg 2010',\n",
       " 'TEDxHamburg',\n",
       " 'TEDxHampshireCollege',\n",
       " 'TEDxHelvetia',\n",
       " 'TEDxHogeschoolUtrecht',\n",
       " 'TEDxHouston',\n",
       " 'TEDxImperialCollege',\n",
       " 'TEDxIndianaUniversity',\n",
       " 'TEDxIndianapolis',\n",
       " 'TEDxIslay',\n",
       " 'TEDxJaffa 2012',\n",
       " 'TEDxJaffa 2013',\n",
       " 'TEDxKids@Ambleside',\n",
       " 'TEDxKids@Brussels',\n",
       " 'TEDxKrakow',\n",
       " 'TEDxKyoto',\n",
       " 'TEDxLeuvenSalon',\n",
       " 'TEDxLinnaeusUniversity',\n",
       " 'TEDxLondonBusinessSchool',\n",
       " 'TEDxMIA',\n",
       " 'TEDxManchester',\n",
       " 'TEDxManhattan',\n",
       " 'TEDxMaui',\n",
       " 'TEDxMet',\n",
       " 'TEDxMiamiUniversity',\n",
       " 'TEDxMidAtlantic 2013',\n",
       " 'TEDxMonroeCorrectionalComplex',\n",
       " 'TEDxMonterey',\n",
       " 'TEDxMontreal',\n",
       " 'TEDxMtHood',\n",
       " 'TEDxMuncyStatePrison',\n",
       " 'TEDxNASA',\n",
       " 'TEDxNASA@SiliconValley',\n",
       " 'TEDxNYED',\n",
       " 'TEDxNatick',\n",
       " 'TEDxNewy',\n",
       " 'TEDxNextGenerationAsheville',\n",
       " 'TEDxNijmegen',\n",
       " 'TEDxNorrkoping',\n",
       " 'TEDxNorthwesternU',\n",
       " \"TEDxO'Porto\",\n",
       " 'TEDxObserver',\n",
       " 'TEDxOmaha',\n",
       " 'TEDxOrangeCoast',\n",
       " 'TEDxOrcasIsland',\n",
       " 'TEDxOslo',\n",
       " 'TEDxParis 2010',\n",
       " 'TEDxParis 2012',\n",
       " 'TEDxPenn',\n",
       " 'TEDxPennQuarter',\n",
       " 'TEDxPennsylvaniaAvenue',\n",
       " 'TEDxPerth',\n",
       " 'TEDxPittsburgh',\n",
       " 'TEDxPlaceDesNations',\n",
       " 'TEDxPortland',\n",
       " 'TEDxPortofSpain',\n",
       " 'TEDxProvidence',\n",
       " 'TEDxPuget Sound ',\n",
       " 'TEDxRotterdam 2010',\n",
       " 'TEDxSBU',\n",
       " 'TEDxSF',\n",
       " 'TEDxSFU',\n",
       " 'TEDxSaltLakeCity',\n",
       " 'TEDxSanDiego',\n",
       " 'TEDxSanJoseCA',\n",
       " 'TEDxSanMigueldeAllende',\n",
       " 'TEDxSanQuentin',\n",
       " 'TEDxSantaCruz',\n",
       " 'TEDxSeattleU',\n",
       " 'TEDxSeoul',\n",
       " 'TEDxSiliconValley',\n",
       " 'TEDxSkoll',\n",
       " 'TEDxSonomaCounty',\n",
       " 'TEDxSouthBank',\n",
       " 'TEDxSussexUniversity',\n",
       " 'TEDxTeen',\n",
       " 'TEDxTelAviv 2010',\n",
       " 'TEDxTokyo',\n",
       " 'TEDxToronto',\n",
       " 'TEDxToronto 2011',\n",
       " 'TEDxToulouse',\n",
       " 'TEDxUCL',\n",
       " 'TEDxUF',\n",
       " 'TEDxUIUC',\n",
       " 'TEDxUM',\n",
       " 'TEDxUMKC',\n",
       " 'TEDxUW',\n",
       " 'TEDxUdeM',\n",
       " 'TEDxUniversityofNevada',\n",
       " 'TEDxUofM',\n",
       " 'TEDxVictoria',\n",
       " 'TEDxVirginiaTech',\n",
       " 'TEDxWaterloo',\n",
       " 'TEDxWinnipeg',\n",
       " 'TEDxWitsUniversity',\n",
       " 'TEDxYouth@Manchester',\n",
       " 'TEDxYouth@Sydney',\n",
       " 'TEDxZurich',\n",
       " 'TEDxZurich 2011',\n",
       " 'TEDxZurich 2012',\n",
       " 'TEDxZurich 2013',\n",
       " 'The Do Lectures',\n",
       " 'Toronto Youth Corps',\n",
       " 'University of California',\n",
       " 'Web 2.0 Expo 2008',\n",
       " 'World Science Festival'}"
      ]
     },
     "execution_count": 66,
     "metadata": {},
     "output_type": "execute_result"
    }
   ],
   "source": [
    "drop_list"
   ]
  },
  {
   "cell_type": "code",
   "execution_count": 134,
   "metadata": {
    "collapsed": true
   },
   "outputs": [
    {
     "data": {
      "text/plain": [
       "event\n",
       "New York State Senate        450.531587\n",
       "TEDxSussexUniversity         838.105769\n",
       "TEDxVictoria                1022.940645\n",
       "TEDxSantaCruz               1131.559055\n",
       "TEDxWaterloo                1176.372881\n",
       "                              ...      \n",
       "TEDxZurich                 88775.857143\n",
       "TED@StateStreet Boston     98668.823529\n",
       "TEDGlobal 2017            103668.766667\n",
       "TEDxSkoll                 166534.722826\n",
       "TEDxHamburg               179735.666667\n",
       "Name: views_per_comment, Length: 355, dtype: float64"
      ]
     },
     "execution_count": 134,
     "metadata": {},
     "output_type": "execute_result"
    }
   ],
   "source": [
    "avg_views_per_comment"
   ]
  },
  {
   "cell_type": "code",
   "execution_count": 68,
   "metadata": {},
   "outputs": [],
   "source": [
    "# must drop by specifying indexes to drop\n",
    "cleaned_ted = avg_views_per_comment.drop(drop_list)"
   ]
  },
  {
   "cell_type": "code",
   "execution_count": 70,
   "metadata": {
    "collapsed": true
   },
   "outputs": [
    {
     "data": {
      "text/plain": [
       "event\n",
       "TEDxOilSpill                  1997.330626\n",
       "TED-Ed                        2557.975508\n",
       "TEDxYYC                       2646.442008\n",
       "TEDSalon 2009 Compassion      2682.366496\n",
       "RSA Animate                   2683.537893\n",
       "                                ...      \n",
       "TED Residency                42580.033552\n",
       "TEDYouth 2015                46419.036088\n",
       "TEDMED 2016                  49885.324164\n",
       "TEDNYC                       53383.934272\n",
       "TEDGlobal 2017              103668.766667\n",
       "Name: views_per_comment, Length: 142, dtype: float64"
      ]
     },
     "execution_count": 70,
     "metadata": {},
     "output_type": "execute_result"
    }
   ],
   "source": [
    "cleaned_ted"
   ]
  },
  {
   "cell_type": "code",
   "execution_count": null,
   "metadata": {},
   "outputs": [],
   "source": [
    "# Top Events: TEDxOilSpill, TED-Ed, TEDxYYC, TEDSalon 2009 Compassion, RSA Animate"
   ]
  },
  {
   "cell_type": "code",
   "execution_count": 71,
   "metadata": {
    "collapsed": true
   },
   "outputs": [
    {
     "data": {
      "text/html": [
       "<div>\n",
       "<style scoped>\n",
       "    .dataframe tbody tr th:only-of-type {\n",
       "        vertical-align: middle;\n",
       "    }\n",
       "\n",
       "    .dataframe tbody tr th {\n",
       "        vertical-align: top;\n",
       "    }\n",
       "\n",
       "    .dataframe thead th {\n",
       "        text-align: right;\n",
       "    }\n",
       "</style>\n",
       "<table border=\"1\" class=\"dataframe\">\n",
       "  <thead>\n",
       "    <tr style=\"text-align: right;\">\n",
       "      <th></th>\n",
       "      <th>comments</th>\n",
       "      <th>description</th>\n",
       "      <th>duration</th>\n",
       "      <th>event</th>\n",
       "      <th>film_date</th>\n",
       "      <th>languages</th>\n",
       "      <th>main_speaker</th>\n",
       "      <th>name</th>\n",
       "      <th>num_speaker</th>\n",
       "      <th>published_date</th>\n",
       "      <th>ratings</th>\n",
       "      <th>related_talks</th>\n",
       "      <th>speaker_occupation</th>\n",
       "      <th>tags</th>\n",
       "      <th>title</th>\n",
       "      <th>url</th>\n",
       "      <th>views</th>\n",
       "      <th>comments_per_view</th>\n",
       "      <th>film_datetime</th>\n",
       "      <th>views_per_comment</th>\n",
       "    </tr>\n",
       "  </thead>\n",
       "  <tbody>\n",
       "    <tr>\n",
       "      <td>727</td>\n",
       "      <td>368</td>\n",
       "      <td>Even as the Deepwater Horizon tragedy unfolded...</td>\n",
       "      <td>1195</td>\n",
       "      <td>TEDxOilSpill</td>\n",
       "      <td>1277683200</td>\n",
       "      <td>28</td>\n",
       "      <td>Carl Safina</td>\n",
       "      <td>Carl Safina: The oil spill's unseen villains -...</td>\n",
       "      <td>1</td>\n",
       "      <td>1278926880</td>\n",
       "      <td>[{'id': 24, 'name': 'Persuasive', 'count': 394...</td>\n",
       "      <td>[{'id': 850, 'hero': 'https://pe.tedcdn.com/im...</td>\n",
       "      <td>Ecologist, writer</td>\n",
       "      <td>['TEDx', 'disaster relief', 'energy', 'environ...</td>\n",
       "      <td>The oil spill's unseen villains -- and victims</td>\n",
       "      <td>https://www.ted.com/talks/carl_safina_the_oil_...</td>\n",
       "      <td>594725</td>\n",
       "      <td>0.000619</td>\n",
       "      <td>2010-06-28</td>\n",
       "      <td>1616.100543</td>\n",
       "    </tr>\n",
       "    <tr>\n",
       "      <td>737</td>\n",
       "      <td>123</td>\n",
       "      <td>Break down the oil slick, keep it off the shor...</td>\n",
       "      <td>1002</td>\n",
       "      <td>TEDxOilSpill</td>\n",
       "      <td>1277683200</td>\n",
       "      <td>17</td>\n",
       "      <td>Susan Shaw</td>\n",
       "      <td>Susan Shaw: The oil spill's toxic trade-off</td>\n",
       "      <td>1</td>\n",
       "      <td>1280221320</td>\n",
       "      <td>[{'id': 24, 'name': 'Persuasive', 'count': 107...</td>\n",
       "      <td>[{'id': 914, 'hero': 'https://pe.tedcdn.com/im...</td>\n",
       "      <td>Marine toxicologist</td>\n",
       "      <td>['TEDx', 'business', 'chemistry', 'disaster re...</td>\n",
       "      <td>The oil spill's toxic trade-off</td>\n",
       "      <td>https://www.ted.com/talks/susan_shaw_the_oil_s...</td>\n",
       "      <td>220099</td>\n",
       "      <td>0.000559</td>\n",
       "      <td>2010-06-28</td>\n",
       "      <td>1789.422764</td>\n",
       "    </tr>\n",
       "    <tr>\n",
       "      <td>753</td>\n",
       "      <td>175</td>\n",
       "      <td>Speaking one month after the massive Gulf of M...</td>\n",
       "      <td>1034</td>\n",
       "      <td>TEDxOilSpill</td>\n",
       "      <td>1277683200</td>\n",
       "      <td>24</td>\n",
       "      <td>Lisa Margonelli</td>\n",
       "      <td>Lisa Margonelli: The political chemistry of oil</td>\n",
       "      <td>1</td>\n",
       "      <td>1282812600</td>\n",
       "      <td>[{'id': 21, 'name': 'Unconvincing', 'count': 6...</td>\n",
       "      <td>[{'id': 914, 'hero': 'https://pe.tedcdn.com/im...</td>\n",
       "      <td>Writer</td>\n",
       "      <td>['TEDx', 'disaster relief', 'energy', 'environ...</td>\n",
       "      <td>The political chemistry of oil</td>\n",
       "      <td>https://www.ted.com/talks/lisa_margonelli_the_...</td>\n",
       "      <td>452632</td>\n",
       "      <td>0.000387</td>\n",
       "      <td>2010-06-28</td>\n",
       "      <td>2586.468571</td>\n",
       "    </tr>\n",
       "  </tbody>\n",
       "</table>\n",
       "</div>"
      ],
      "text/plain": [
       "     comments                                        description  duration  \\\n",
       "727       368  Even as the Deepwater Horizon tragedy unfolded...      1195   \n",
       "737       123  Break down the oil slick, keep it off the shor...      1002   \n",
       "753       175  Speaking one month after the massive Gulf of M...      1034   \n",
       "\n",
       "            event   film_date  languages     main_speaker  \\\n",
       "727  TEDxOilSpill  1277683200         28      Carl Safina   \n",
       "737  TEDxOilSpill  1277683200         17       Susan Shaw   \n",
       "753  TEDxOilSpill  1277683200         24  Lisa Margonelli   \n",
       "\n",
       "                                                  name  num_speaker  \\\n",
       "727  Carl Safina: The oil spill's unseen villains -...            1   \n",
       "737        Susan Shaw: The oil spill's toxic trade-off            1   \n",
       "753    Lisa Margonelli: The political chemistry of oil            1   \n",
       "\n",
       "     published_date                                            ratings  \\\n",
       "727      1278926880  [{'id': 24, 'name': 'Persuasive', 'count': 394...   \n",
       "737      1280221320  [{'id': 24, 'name': 'Persuasive', 'count': 107...   \n",
       "753      1282812600  [{'id': 21, 'name': 'Unconvincing', 'count': 6...   \n",
       "\n",
       "                                         related_talks   speaker_occupation  \\\n",
       "727  [{'id': 850, 'hero': 'https://pe.tedcdn.com/im...    Ecologist, writer   \n",
       "737  [{'id': 914, 'hero': 'https://pe.tedcdn.com/im...  Marine toxicologist   \n",
       "753  [{'id': 914, 'hero': 'https://pe.tedcdn.com/im...               Writer   \n",
       "\n",
       "                                                  tags  \\\n",
       "727  ['TEDx', 'disaster relief', 'energy', 'environ...   \n",
       "737  ['TEDx', 'business', 'chemistry', 'disaster re...   \n",
       "753  ['TEDx', 'disaster relief', 'energy', 'environ...   \n",
       "\n",
       "                                              title  \\\n",
       "727  The oil spill's unseen villains -- and victims   \n",
       "737                 The oil spill's toxic trade-off   \n",
       "753                  The political chemistry of oil   \n",
       "\n",
       "                                                   url   views  \\\n",
       "727  https://www.ted.com/talks/carl_safina_the_oil_...  594725   \n",
       "737  https://www.ted.com/talks/susan_shaw_the_oil_s...  220099   \n",
       "753  https://www.ted.com/talks/lisa_margonelli_the_...  452632   \n",
       "\n",
       "     comments_per_view film_datetime  views_per_comment  \n",
       "727           0.000619    2010-06-28        1616.100543  \n",
       "737           0.000559    2010-06-28        1789.422764  \n",
       "753           0.000387    2010-06-28        2586.468571  "
      ]
     },
     "execution_count": 71,
     "metadata": {},
     "output_type": "execute_result"
    }
   ],
   "source": [
    "ted.loc[ted.event == 'TEDxOilSpill'] # 3 talks"
   ]
  },
  {
   "cell_type": "markdown",
   "metadata": {},
   "source": [
    "Different way to do above. Limit DF to events w/ 3+ talks"
   ]
  },
  {
   "cell_type": "code",
   "execution_count": 154,
   "metadata": {
    "collapsed": true
   },
   "outputs": [
    {
     "name": "stdout",
     "output_type": "stream",
     "text": [
      "TED Dialogues          2\n",
      "Stanford University    2\n",
      "TEDxBratislava         2\n",
      "TEDxColumbus           2\n",
      "TEDxTelAviv 2010       2\n",
      "                      ..\n",
      "TEDxGrandRapids        1\n",
      "TEDxCHUV               1\n",
      "TEDxUIUC               1\n",
      "TEDxBoston 2009        1\n",
      "TEDxOrangeCoast        1\n",
      "Name: event, Length: 213, dtype: int64\n"
     ]
    },
    {
     "data": {
      "text/plain": [
       "['TED Dialogues',\n",
       " 'Stanford University',\n",
       " 'TEDxBratislava',\n",
       " 'TEDxColumbus',\n",
       " 'TEDxTelAviv 2010',\n",
       " 'TEDxManchester',\n",
       " 'TEDxToronto 2011',\n",
       " 'TEDxBend',\n",
       " 'TEDxPortofSpain',\n",
       " 'TEDxAthens',\n",
       " 'TEDxCMU',\n",
       " 'TEDxKyoto',\n",
       " 'TEDActive 2014',\n",
       " 'TEDxYouth@Manchester',\n",
       " 'TEDxOslo',\n",
       " 'TEDPrize@UN',\n",
       " 'TEDxHouston',\n",
       " 'TEDxNASA',\n",
       " 'TEDxZurich 2012',\n",
       " 'TEDLagos Ideas Search',\n",
       " 'TEDxDU 2010',\n",
       " 'University of California',\n",
       " 'TEDxKrakow',\n",
       " 'TEDSalon 2007 Hot Science',\n",
       " 'TEDxBerkeley',\n",
       " 'TEDxManhattan',\n",
       " 'TEDxSanDiego',\n",
       " 'TEDxMaui',\n",
       " 'TEDxTokyo',\n",
       " 'TEDxDelft',\n",
       " 'TEDxRotterdam 2010',\n",
       " 'TEDxBloomington',\n",
       " 'TEDxDeExtinction',\n",
       " 'TEDxMet',\n",
       " 'TEDxObserver',\n",
       " 'TEDxSanMigueldeAllende',\n",
       " 'TEDxPlaceDesNations',\n",
       " 'TED@MotorCity',\n",
       " 'TEDSalon London Fall 2011',\n",
       " 'TEDxParis 2010',\n",
       " 'TEDxNYED',\n",
       " 'Gel Conference',\n",
       " 'TEDxSkoll',\n",
       " 'TEDxYouth@Sydney',\n",
       " 'TEDxPerth',\n",
       " 'TEDxTeen',\n",
       " 'TEDxGhent',\n",
       " 'TED@BCG Berlin',\n",
       " 'TEDxBoulder 2011',\n",
       " 'TEDxMidAtlantic 2013',\n",
       " 'TEDxParis 2012',\n",
       " 'TEDxSiliconValley',\n",
       " 'TEDxKids@Ambleside',\n",
       " 'TEDxSeattleU',\n",
       " 'TED@London',\n",
       " 'DLD 2007',\n",
       " 'TEDxNASA@SiliconValley',\n",
       " 'TED-Ed Weekend',\n",
       " 'TEDxChapmanU',\n",
       " 'TEDxGeorgetown',\n",
       " 'TEDxNextGenerationAsheville',\n",
       " 'TEDxBinghamtonUniversity',\n",
       " 'TEDxHamburg',\n",
       " 'TEDxToulouse',\n",
       " 'TEDxAmericanRiviera',\n",
       " 'TEDxSouthBank',\n",
       " 'TEDxSaltLakeCity',\n",
       " 'Handheld Learning',\n",
       " 'TEDxHampshireCollege',\n",
       " 'Skoll World Forum 2007',\n",
       " 'TEDxNijmegen',\n",
       " 'BBC TV',\n",
       " 'TEDxPennQuarter',\n",
       " 'TEDxMonroeCorrectionalComplex',\n",
       " 'TEDxSFU',\n",
       " 'TED@State Street London',\n",
       " 'TEDxSBU',\n",
       " 'TEDxSanQuentin',\n",
       " 'TEDxGoodenoughCollege',\n",
       " 'TEDxClaremontColleges',\n",
       " 'TED Prize Wish',\n",
       " 'TEDxCaFoscariU',\n",
       " 'TEDxGoldenGatePark 2012',\n",
       " 'TEDxMontreal',\n",
       " 'Arbejdsglaede Live',\n",
       " 'World Science Festival',\n",
       " 'TEDxOmaha',\n",
       " 'TEDxZurich 2013',\n",
       " 'TEDxFrankfurt',\n",
       " \"Eric Whitacre's Virtual Choir\",\n",
       " 'TEDxCreativeCoast',\n",
       " 'TEDxHelvetia',\n",
       " 'TEDxToronto',\n",
       " 'TEDSalon London 2009',\n",
       " 'TEDxAmoskeagMillyard',\n",
       " 'TEDxPenn',\n",
       " 'TEDxLondonBusinessSchool',\n",
       " 'TED@Bangalore',\n",
       " 'TED Fellows 2015',\n",
       " 'TEDxAmazonia',\n",
       " 'Michael Howard Studios',\n",
       " 'TEDxZurich',\n",
       " 'TEDxAsheville',\n",
       " 'TEDxSeoul',\n",
       " 'TEDxSanJoseCA',\n",
       " 'Web 2.0 Expo 2008',\n",
       " 'TEDxUM',\n",
       " 'TEDxUCL',\n",
       " 'TEDxNorrkoping',\n",
       " 'TEDxUniversityofNevada',\n",
       " 'Elizabeth G. Anderson School',\n",
       " 'TEDxDirigo',\n",
       " 'TEDxFiDiWomen',\n",
       " 'NextGen:Charity',\n",
       " 'TEDxMtHood',\n",
       " 'TEDxBoston 2010',\n",
       " 'Royal Institution',\n",
       " 'TEDxConcordiaUPortland',\n",
       " 'TEDxGöteborg 2010',\n",
       " 'TEDSalon NY2015',\n",
       " 'TEDxEdmonton',\n",
       " 'TEDxNatick',\n",
       " 'TEDxJaffa 2013',\n",
       " 'TEDxImperialCollege',\n",
       " 'TEDxEQChCh',\n",
       " 'Princeton University',\n",
       " 'TEDxLinnaeusUniversity',\n",
       " 'Toronto Youth Corps',\n",
       " 'TEDxWitsUniversity',\n",
       " 'TEDxCannes',\n",
       " 'Harvard University',\n",
       " 'TEDxVictoria',\n",
       " 'LIFT 2007',\n",
       " 'TEDxWinnipeg',\n",
       " 'TEDxGlasgow',\n",
       " 'TEDxColumbusWomen',\n",
       " 'TED1994',\n",
       " 'TEDxMonterey',\n",
       " 'TEDxGroningen',\n",
       " 'TEDxColbyCollege',\n",
       " 'TED@Johannesburg',\n",
       " 'Bowery Poetry Club',\n",
       " 'Carnegie Mellon University',\n",
       " 'TEDxABQ',\n",
       " 'TEDxKids@Brussels',\n",
       " 'TEDxWaterloo',\n",
       " 'TEDxIndianaUniversity',\n",
       " 'TEDxPuget Sound ',\n",
       " 'Global Witness HQ',\n",
       " 'TEDxConcorde',\n",
       " 'TEDxSussexUniversity',\n",
       " 'TEDxEuston',\n",
       " 'TEDxZurich 2011',\n",
       " 'TEDxVirginiaTech',\n",
       " 'TEDxMuncyStatePrison',\n",
       " 'Justice with Michael Sandel',\n",
       " 'TED@SXSWi',\n",
       " 'TED1984',\n",
       " 'TEDYouth 2012',\n",
       " 'TEDxColoradoSprings',\n",
       " 'TEDxPortland',\n",
       " 'TEDxDubai',\n",
       " 'TEDxGatewayWomen',\n",
       " 'TEDxHogeschoolUtrecht',\n",
       " 'TEDxEastEnd',\n",
       " 'TEDxSantaCruz',\n",
       " 'TEDxNewy',\n",
       " 'Fort Worth City Council',\n",
       " 'TEDxPittsburgh',\n",
       " 'TEDxDesMoines',\n",
       " 'TEDxIslay',\n",
       " 'TEDxUW',\n",
       " 'The Do Lectures',\n",
       " 'TEDxBeirut',\n",
       " 'TEDxBG',\n",
       " 'TEDxSF',\n",
       " 'DICE Summit 2010',\n",
       " 'TEDNairobi Ideas Search',\n",
       " 'TEDxArendal',\n",
       " 'TEDxIndianapolis',\n",
       " 'TEDxUofM',\n",
       " 'TEDxFulbrightDublin',\n",
       " 'TEDxAtlanta',\n",
       " 'TEDxNorthwesternU',\n",
       " 'TEDxDU 2011',\n",
       " 'TED Senior Fellows at TEDGlobal 2010',\n",
       " 'TEDActive 2015',\n",
       " 'TEDxMIA',\n",
       " 'TEDxPennsylvaniaAvenue',\n",
       " 'TEDxUF',\n",
       " 'TEDxCrenshaw',\n",
       " 'TED@Nairobi',\n",
       " 'TEDxSonomaCounty',\n",
       " 'TEDxProvidence',\n",
       " 'SoulPancake',\n",
       " 'TEDxUMKC',\n",
       " \"TEDxO'Porto\",\n",
       " 'TED@StateStreet Boston',\n",
       " 'TEDxJaffa 2012',\n",
       " 'TEDxOrcasIsland',\n",
       " 'TEDxMiamiUniversity',\n",
       " 'TEDxBrighton',\n",
       " 'TEDxUdeM',\n",
       " 'TEDxLeuvenSalon',\n",
       " 'AORN Congress',\n",
       " 'TEDxDanubia',\n",
       " 'TED1990',\n",
       " 'New York State Senate',\n",
       " 'TEDxGrandRapids',\n",
       " 'TEDxCHUV',\n",
       " 'TEDxUIUC',\n",
       " 'TEDxBoston 2009',\n",
       " 'TEDxOrangeCoast']"
      ]
     },
     "execution_count": 154,
     "metadata": {},
     "output_type": "execute_result"
    }
   ],
   "source": [
    "# find the events that had 3 or fewer talks\n",
    "print(ted.event.value_counts()[ted.event.value_counts() < 3])\n",
    "events_to_drop = list(ted.event.value_counts()[ted.event.value_counts() < 3].index)\n",
    "events_to_drop"
   ]
  },
  {
   "cell_type": "code",
   "execution_count": 155,
   "metadata": {},
   "outputs": [
    {
     "name": "stdout",
     "output_type": "stream",
     "text": [
      "160     True\n",
      "161     True\n",
      "162     True\n",
      "200     True\n",
      "202     True\n",
      "        ... \n",
      "2528    True\n",
      "2531    True\n",
      "2534    True\n",
      "2538    True\n",
      "2541    True\n",
      "Name: event, Length: 263, dtype: bool\n"
     ]
    }
   ],
   "source": [
    "# get list of indexes to drop\n",
    "bool_trace = ted.event.apply(lambda x: x in events_to_drop)\n",
    "print(bool_trace[bool_trace == True])\n",
    "index_to_drop = bool_trace[bool_trace == True].index"
   ]
  },
  {
   "cell_type": "code",
   "execution_count": 153,
   "metadata": {},
   "outputs": [
    {
     "data": {
      "text/plain": [
       "event\n",
       "Business Innovation Factory     3\n",
       "TEDxDublin                      3\n",
       "TEDxYYC                         3\n",
       "TEDxGreatPacificGarbagePatch    3\n",
       "TED@BCG Singapore               3\n",
       "Name: event, dtype: int64"
      ]
     },
     "execution_count": 153,
     "metadata": {},
     "output_type": "execute_result"
    }
   ],
   "source": [
    "new_df = ted.drop(index_to_drop, axis = 0)\n",
    "new_df.groupby('event').event.count().sort_values().head()"
   ]
  },
  {
   "cell_type": "markdown",
   "metadata": {},
   "source": [
    "# Looking at views per event, with the count of talks per event"
   ]
  },
  {
   "cell_type": "code",
   "execution_count": 162,
   "metadata": {},
   "outputs": [
    {
     "data": {
      "text/html": [
       "<div>\n",
       "<style scoped>\n",
       "    .dataframe tbody tr th:only-of-type {\n",
       "        vertical-align: middle;\n",
       "    }\n",
       "\n",
       "    .dataframe tbody tr th {\n",
       "        vertical-align: top;\n",
       "    }\n",
       "\n",
       "    .dataframe thead th {\n",
       "        text-align: right;\n",
       "    }\n",
       "</style>\n",
       "<table border=\"1\" class=\"dataframe\">\n",
       "  <thead>\n",
       "    <tr style=\"text-align: right;\">\n",
       "      <th></th>\n",
       "      <th>mean</th>\n",
       "      <th>count</th>\n",
       "      <th>sum</th>\n",
       "    </tr>\n",
       "    <tr>\n",
       "      <th>event</th>\n",
       "      <th></th>\n",
       "      <th></th>\n",
       "      <th></th>\n",
       "    </tr>\n",
       "  </thead>\n",
       "  <tbody>\n",
       "    <tr>\n",
       "      <td>TED2006</td>\n",
       "      <td>3.274345e+06</td>\n",
       "      <td>45</td>\n",
       "      <td>147345533</td>\n",
       "    </tr>\n",
       "    <tr>\n",
       "      <td>TED2015</td>\n",
       "      <td>2.011017e+06</td>\n",
       "      <td>75</td>\n",
       "      <td>150826305</td>\n",
       "    </tr>\n",
       "    <tr>\n",
       "      <td>TEDGlobal 2013</td>\n",
       "      <td>2.584163e+06</td>\n",
       "      <td>66</td>\n",
       "      <td>170554736</td>\n",
       "    </tr>\n",
       "    <tr>\n",
       "      <td>TED2014</td>\n",
       "      <td>2.072874e+06</td>\n",
       "      <td>84</td>\n",
       "      <td>174121423</td>\n",
       "    </tr>\n",
       "    <tr>\n",
       "      <td>TED2013</td>\n",
       "      <td>2.302700e+06</td>\n",
       "      <td>77</td>\n",
       "      <td>177307937</td>\n",
       "    </tr>\n",
       "  </tbody>\n",
       "</table>\n",
       "</div>"
      ],
      "text/plain": [
       "                        mean  count        sum\n",
       "event                                         \n",
       "TED2006         3.274345e+06     45  147345533\n",
       "TED2015         2.011017e+06     75  150826305\n",
       "TEDGlobal 2013  2.584163e+06     66  170554736\n",
       "TED2014         2.072874e+06     84  174121423\n",
       "TED2013         2.302700e+06     77  177307937"
      ]
     },
     "execution_count": 162,
     "metadata": {},
     "output_type": "execute_result"
    }
   ],
   "source": [
    "# use the .agg function to get multiple aggregations\n",
    "ted.groupby('event').views.agg(['mean', 'count', 'sum']).sort_values('sum').tail()\n",
    "# use to find out which events had the highest total number of views"
   ]
  },
  {
   "cell_type": "markdown",
   "metadata": {},
   "source": [
    "# What were the 'best' events in TED history to attend?\n",
    "\n",
    "1. Think creatively about how you can use the data you have to answer your question\n",
    "    - You will never have the 'perfect' dataset\n",
    "    - Always mention the limitations of your approach/data\n",
    "        - For example, using 'views' is biased towards older talks, and does not always guarantee better quality.\n",
    "2. Watch out for small sample sizes\n",
    "    - When calculating statistics, and using .groupby(), use the count() aggregation to know how big your sample sizes are."
   ]
  },
  {
   "cell_type": "markdown",
   "metadata": {},
   "source": [
    "# 6. Unpack the ratings data"
   ]
  },
  {
   "cell_type": "code",
   "execution_count": 177,
   "metadata": {},
   "outputs": [
    {
     "name": "stdout",
     "output_type": "stream",
     "text": [
      "[{'id': 7, 'name': 'Funny', 'count': 19645}, {'id': 1, 'name': 'Beautiful', 'count': 4573}, {'id': 9, 'name': 'Ingenious', 'count': 6073}, {'id': 3, 'name': 'Courageous', 'count': 3253}, {'id': 11, 'name': 'Longwinded', 'count': 387}, {'id': 2, 'name': 'Confusing', 'count': 242}, {'id': 8, 'name': 'Informative', 'count': 7346}, {'id': 22, 'name': 'Fascinating', 'count': 10581}, {'id': 21, 'name': 'Unconvincing', 'count': 300}, {'id': 24, 'name': 'Persuasive', 'count': 10704}, {'id': 23, 'name': 'Jaw-dropping', 'count': 4439}, {'id': 25, 'name': 'OK', 'count': 1174}, {'id': 26, 'name': 'Obnoxious', 'count': 209}, {'id': 10, 'name': 'Inspiring', 'count': 24924}] \n",
      "\n"
     ]
    },
    {
     "data": {
      "text/plain": [
       "str"
      ]
     },
     "execution_count": 177,
     "metadata": {},
     "output_type": "execute_result"
    }
   ],
   "source": [
    "# Use to be able to tag TED talks as \"funny\", \"courageous\", \"inspiring\", etc.\n",
    "print(ted.ratings[0], '\\n')\n",
    "type(ted.ratings[0])\n",
    "# appears to be a 'stringified' list of dictionaries"
   ]
  },
  {
   "cell_type": "code",
   "execution_count": 181,
   "metadata": {},
   "outputs": [
    {
     "data": {
      "text/plain": [
       "[1, 2, 3]"
      ]
     },
     "execution_count": 181,
     "metadata": {},
     "output_type": "execute_result"
    }
   ],
   "source": [
    "# way to convert from str to list of dictionaries\n",
    "import ast\n",
    "# stands for 'abstract syntax tree'\n",
    "ast.literal_eval('[1,2,3]')\n",
    "# ast.literal_eval() function converts strings to assumed python objects"
   ]
  },
  {
   "cell_type": "code",
   "execution_count": 193,
   "metadata": {
    "collapsed": true
   },
   "outputs": [
    {
     "data": {
      "text/plain": [
       "[{'id': 7, 'name': 'Funny', 'count': 19645},\n",
       " {'id': 1, 'name': 'Beautiful', 'count': 4573},\n",
       " {'id': 9, 'name': 'Ingenious', 'count': 6073},\n",
       " {'id': 3, 'name': 'Courageous', 'count': 3253},\n",
       " {'id': 11, 'name': 'Longwinded', 'count': 387},\n",
       " {'id': 2, 'name': 'Confusing', 'count': 242},\n",
       " {'id': 8, 'name': 'Informative', 'count': 7346},\n",
       " {'id': 22, 'name': 'Fascinating', 'count': 10581},\n",
       " {'id': 21, 'name': 'Unconvincing', 'count': 300},\n",
       " {'id': 24, 'name': 'Persuasive', 'count': 10704},\n",
       " {'id': 23, 'name': 'Jaw-dropping', 'count': 4439},\n",
       " {'id': 25, 'name': 'OK', 'count': 1174},\n",
       " {'id': 26, 'name': 'Obnoxious', 'count': 209},\n",
       " {'id': 10, 'name': 'Inspiring', 'count': 24924}]"
      ]
     },
     "execution_count": 193,
     "metadata": {},
     "output_type": "execute_result"
    }
   ],
   "source": [
    "ast.literal_eval(ted.ratings[0])"
   ]
  },
  {
   "cell_type": "code",
   "execution_count": 204,
   "metadata": {},
   "outputs": [],
   "source": [
    "# apply this function to all records\n",
    "ted['ratings_list'] = ted.ratings.apply(lambda x: ast.literal_eval(x))\n",
    "# ted.ratings.apply(ast.literal_eval) # alternatively, use the function itself\n",
    "# .apply() function is known to be 'slow' performance-wise"
   ]
  },
  {
   "cell_type": "code",
   "execution_count": 212,
   "metadata": {},
   "outputs": [
    {
     "data": {
      "text/plain": [
       "[{'id': 7, 'name': 'Funny', 'count': 19645},\n",
       " {'id': 1, 'name': 'Beautiful', 'count': 4573},\n",
       " {'id': 9, 'name': 'Ingenious', 'count': 6073},\n",
       " {'id': 3, 'name': 'Courageous', 'count': 3253},\n",
       " {'id': 11, 'name': 'Longwinded', 'count': 387},\n",
       " {'id': 2, 'name': 'Confusing', 'count': 242},\n",
       " {'id': 8, 'name': 'Informative', 'count': 7346},\n",
       " {'id': 22, 'name': 'Fascinating', 'count': 10581},\n",
       " {'id': 21, 'name': 'Unconvincing', 'count': 300},\n",
       " {'id': 24, 'name': 'Persuasive', 'count': 10704},\n",
       " {'id': 23, 'name': 'Jaw-dropping', 'count': 4439},\n",
       " {'id': 25, 'name': 'OK', 'count': 1174},\n",
       " {'id': 26, 'name': 'Obnoxious', 'count': 209},\n",
       " {'id': 10, 'name': 'Inspiring', 'count': 24924}]"
      ]
     },
     "execution_count": 212,
     "metadata": {},
     "output_type": "execute_result"
    }
   ],
   "source": [
    "ted.ratings_list[0]"
   ]
  },
  {
   "cell_type": "markdown",
   "metadata": {},
   "source": [
    "# Unpack the ratings data\n",
    "- Pay attention to data types in pandas\n",
    "- Use apply any time it is necessary"
   ]
  },
  {
   "cell_type": "markdown",
   "metadata": {},
   "source": [
    "# 7. Count the number of ratings received by each talk\n",
    "- Store in a new column called 'num_ratings'\n",
    "\n",
    "Bonus:\n",
    "1. for each talk, calculate the percentage that were negative\n",
    "2. for each talk, calculate the avg number of ratings it received per day since it was published"
   ]
  },
  {
   "cell_type": "code",
   "execution_count": 283,
   "metadata": {},
   "outputs": [
    {
     "data": {
      "text/plain": [
       "[{'id': 7, 'name': 'Funny', 'count': 19645},\n",
       " {'id': 1, 'name': 'Beautiful', 'count': 4573},\n",
       " {'id': 9, 'name': 'Ingenious', 'count': 6073},\n",
       " {'id': 3, 'name': 'Courageous', 'count': 3253},\n",
       " {'id': 11, 'name': 'Longwinded', 'count': 387},\n",
       " {'id': 2, 'name': 'Confusing', 'count': 242},\n",
       " {'id': 8, 'name': 'Informative', 'count': 7346},\n",
       " {'id': 22, 'name': 'Fascinating', 'count': 10581},\n",
       " {'id': 21, 'name': 'Unconvincing', 'count': 300},\n",
       " {'id': 24, 'name': 'Persuasive', 'count': 10704},\n",
       " {'id': 23, 'name': 'Jaw-dropping', 'count': 4439},\n",
       " {'id': 25, 'name': 'OK', 'count': 1174},\n",
       " {'id': 26, 'name': 'Obnoxious', 'count': 209},\n",
       " {'id': 10, 'name': 'Inspiring', 'count': 24924}]"
      ]
     },
     "execution_count": 283,
     "metadata": {},
     "output_type": "execute_result"
    }
   ],
   "source": [
    "ted.ratings_list[0]"
   ]
  },
  {
   "cell_type": "code",
   "execution_count": 235,
   "metadata": {},
   "outputs": [
    {
     "data": {
      "text/plain": [
       "93850"
      ]
     },
     "execution_count": 235,
     "metadata": {},
     "output_type": "execute_result"
    }
   ],
   "source": [
    "# brute force method for parsing through a dictionary. Might be a better way.\n",
    "def ratings_count(ratings_list):\n",
    "    count = 0\n",
    "    for rating in ratings_list:\n",
    "        count += rating['count']\n",
    "    return count\n",
    "\n",
    "ratings_count(ted.ratings_list[0])"
   ]
  },
  {
   "cell_type": "code",
   "execution_count": 236,
   "metadata": {
    "collapsed": true
   },
   "outputs": [
    {
     "data": {
      "text/html": [
       "<div>\n",
       "<style scoped>\n",
       "    .dataframe tbody tr th:only-of-type {\n",
       "        vertical-align: middle;\n",
       "    }\n",
       "\n",
       "    .dataframe tbody tr th {\n",
       "        vertical-align: top;\n",
       "    }\n",
       "\n",
       "    .dataframe thead th {\n",
       "        text-align: right;\n",
       "    }\n",
       "</style>\n",
       "<table border=\"1\" class=\"dataframe\">\n",
       "  <thead>\n",
       "    <tr style=\"text-align: right;\">\n",
       "      <th></th>\n",
       "      <th>title</th>\n",
       "      <th>event</th>\n",
       "      <th>num_ratings</th>\n",
       "    </tr>\n",
       "  </thead>\n",
       "  <tbody>\n",
       "    <tr>\n",
       "      <td>0</td>\n",
       "      <td>Do schools kill creativity?</td>\n",
       "      <td>TED2006</td>\n",
       "      <td>93850</td>\n",
       "    </tr>\n",
       "    <tr>\n",
       "      <td>1</td>\n",
       "      <td>Averting the climate crisis</td>\n",
       "      <td>TED2006</td>\n",
       "      <td>2936</td>\n",
       "    </tr>\n",
       "    <tr>\n",
       "      <td>2</td>\n",
       "      <td>Simplicity sells</td>\n",
       "      <td>TED2006</td>\n",
       "      <td>2824</td>\n",
       "    </tr>\n",
       "    <tr>\n",
       "      <td>3</td>\n",
       "      <td>Greening the ghetto</td>\n",
       "      <td>TED2006</td>\n",
       "      <td>3728</td>\n",
       "    </tr>\n",
       "    <tr>\n",
       "      <td>4</td>\n",
       "      <td>The best stats you've ever seen</td>\n",
       "      <td>TED2006</td>\n",
       "      <td>25620</td>\n",
       "    </tr>\n",
       "    <tr>\n",
       "      <td>...</td>\n",
       "      <td>...</td>\n",
       "      <td>...</td>\n",
       "      <td>...</td>\n",
       "    </tr>\n",
       "    <tr>\n",
       "      <td>2545</td>\n",
       "      <td>What we're missing in the debate about immigra...</td>\n",
       "      <td>TED2017</td>\n",
       "      <td>192</td>\n",
       "    </tr>\n",
       "    <tr>\n",
       "      <td>2546</td>\n",
       "      <td>The most Martian place on Earth</td>\n",
       "      <td>TED2017</td>\n",
       "      <td>151</td>\n",
       "    </tr>\n",
       "    <tr>\n",
       "      <td>2547</td>\n",
       "      <td>What intelligent machines can learn from a sch...</td>\n",
       "      <td>TED2017</td>\n",
       "      <td>136</td>\n",
       "    </tr>\n",
       "    <tr>\n",
       "      <td>2548</td>\n",
       "      <td>A black man goes undercover in the alt-right</td>\n",
       "      <td>TEDxMileHigh</td>\n",
       "      <td>583</td>\n",
       "    </tr>\n",
       "    <tr>\n",
       "      <td>2549</td>\n",
       "      <td>How a video game might help us build better ci...</td>\n",
       "      <td>TED2017</td>\n",
       "      <td>142</td>\n",
       "    </tr>\n",
       "  </tbody>\n",
       "</table>\n",
       "<p>2550 rows × 3 columns</p>\n",
       "</div>"
      ],
      "text/plain": [
       "                                                  title         event  \\\n",
       "0                           Do schools kill creativity?       TED2006   \n",
       "1                           Averting the climate crisis       TED2006   \n",
       "2                                      Simplicity sells       TED2006   \n",
       "3                                   Greening the ghetto       TED2006   \n",
       "4                       The best stats you've ever seen       TED2006   \n",
       "...                                                 ...           ...   \n",
       "2545  What we're missing in the debate about immigra...       TED2017   \n",
       "2546                    The most Martian place on Earth       TED2017   \n",
       "2547  What intelligent machines can learn from a sch...       TED2017   \n",
       "2548       A black man goes undercover in the alt-right  TEDxMileHigh   \n",
       "2549  How a video game might help us build better ci...       TED2017   \n",
       "\n",
       "      num_ratings  \n",
       "0           93850  \n",
       "1            2936  \n",
       "2            2824  \n",
       "3            3728  \n",
       "4           25620  \n",
       "...           ...  \n",
       "2545          192  \n",
       "2546          151  \n",
       "2547          136  \n",
       "2548          583  \n",
       "2549          142  \n",
       "\n",
       "[2550 rows x 3 columns]"
      ]
     },
     "execution_count": 236,
     "metadata": {},
     "output_type": "execute_result"
    }
   ],
   "source": [
    "ted['num_ratings'] = ted.ratings_list.apply(ratings_count)\n",
    "ted[['title','event','num_ratings']]"
   ]
  },
  {
   "cell_type": "code",
   "execution_count": 275,
   "metadata": {},
   "outputs": [
    {
     "data": {
      "text/plain": [
       "count     2550.000000\n",
       "mean      2436.408235\n",
       "std       4226.795631\n",
       "min         68.000000\n",
       "25%        870.750000\n",
       "50%       1452.500000\n",
       "75%       2506.750000\n",
       "max      93850.000000\n",
       "Name: num_ratings, dtype: float64"
      ]
     },
     "execution_count": 275,
     "metadata": {},
     "output_type": "execute_result"
    }
   ],
   "source": [
    "# Check results to see if they make sense\n",
    "ted.num_ratings.describe()"
   ]
  },
  {
   "cell_type": "markdown",
   "metadata": {},
   "source": [
    "**Alternative Solution:** (takes longer)\n",
    "- turning each list of dictionaries into a dataframe, then summing the count"
   ]
  },
  {
   "cell_type": "code",
   "execution_count": 282,
   "metadata": {
    "collapsed": true
   },
   "outputs": [
    {
     "data": {
      "text/html": [
       "<div>\n",
       "<style scoped>\n",
       "    .dataframe tbody tr th:only-of-type {\n",
       "        vertical-align: middle;\n",
       "    }\n",
       "\n",
       "    .dataframe tbody tr th {\n",
       "        vertical-align: top;\n",
       "    }\n",
       "\n",
       "    .dataframe thead th {\n",
       "        text-align: right;\n",
       "    }\n",
       "</style>\n",
       "<table border=\"1\" class=\"dataframe\">\n",
       "  <thead>\n",
       "    <tr style=\"text-align: right;\">\n",
       "      <th></th>\n",
       "      <th>id</th>\n",
       "      <th>name</th>\n",
       "      <th>count</th>\n",
       "    </tr>\n",
       "  </thead>\n",
       "  <tbody>\n",
       "    <tr>\n",
       "      <td>0</td>\n",
       "      <td>7</td>\n",
       "      <td>Funny</td>\n",
       "      <td>19645</td>\n",
       "    </tr>\n",
       "    <tr>\n",
       "      <td>1</td>\n",
       "      <td>1</td>\n",
       "      <td>Beautiful</td>\n",
       "      <td>4573</td>\n",
       "    </tr>\n",
       "    <tr>\n",
       "      <td>2</td>\n",
       "      <td>9</td>\n",
       "      <td>Ingenious</td>\n",
       "      <td>6073</td>\n",
       "    </tr>\n",
       "    <tr>\n",
       "      <td>3</td>\n",
       "      <td>3</td>\n",
       "      <td>Courageous</td>\n",
       "      <td>3253</td>\n",
       "    </tr>\n",
       "    <tr>\n",
       "      <td>4</td>\n",
       "      <td>11</td>\n",
       "      <td>Longwinded</td>\n",
       "      <td>387</td>\n",
       "    </tr>\n",
       "    <tr>\n",
       "      <td>5</td>\n",
       "      <td>2</td>\n",
       "      <td>Confusing</td>\n",
       "      <td>242</td>\n",
       "    </tr>\n",
       "    <tr>\n",
       "      <td>6</td>\n",
       "      <td>8</td>\n",
       "      <td>Informative</td>\n",
       "      <td>7346</td>\n",
       "    </tr>\n",
       "    <tr>\n",
       "      <td>7</td>\n",
       "      <td>22</td>\n",
       "      <td>Fascinating</td>\n",
       "      <td>10581</td>\n",
       "    </tr>\n",
       "    <tr>\n",
       "      <td>8</td>\n",
       "      <td>21</td>\n",
       "      <td>Unconvincing</td>\n",
       "      <td>300</td>\n",
       "    </tr>\n",
       "    <tr>\n",
       "      <td>9</td>\n",
       "      <td>24</td>\n",
       "      <td>Persuasive</td>\n",
       "      <td>10704</td>\n",
       "    </tr>\n",
       "    <tr>\n",
       "      <td>10</td>\n",
       "      <td>23</td>\n",
       "      <td>Jaw-dropping</td>\n",
       "      <td>4439</td>\n",
       "    </tr>\n",
       "    <tr>\n",
       "      <td>11</td>\n",
       "      <td>25</td>\n",
       "      <td>OK</td>\n",
       "      <td>1174</td>\n",
       "    </tr>\n",
       "    <tr>\n",
       "      <td>12</td>\n",
       "      <td>26</td>\n",
       "      <td>Obnoxious</td>\n",
       "      <td>209</td>\n",
       "    </tr>\n",
       "    <tr>\n",
       "      <td>13</td>\n",
       "      <td>10</td>\n",
       "      <td>Inspiring</td>\n",
       "      <td>24924</td>\n",
       "    </tr>\n",
       "  </tbody>\n",
       "</table>\n",
       "</div>"
      ],
      "text/plain": [
       "    id          name  count\n",
       "0    7         Funny  19645\n",
       "1    1     Beautiful   4573\n",
       "2    9     Ingenious   6073\n",
       "3    3    Courageous   3253\n",
       "4   11    Longwinded    387\n",
       "5    2     Confusing    242\n",
       "6    8   Informative   7346\n",
       "7   22   Fascinating  10581\n",
       "8   21  Unconvincing    300\n",
       "9   24    Persuasive  10704\n",
       "10  23  Jaw-dropping   4439\n",
       "11  25            OK   1174\n",
       "12  26     Obnoxious    209\n",
       "13  10     Inspiring  24924"
      ]
     },
     "execution_count": 282,
     "metadata": {},
     "output_type": "execute_result"
    }
   ],
   "source": [
    "pd.DataFrame(ted.ratings_list[0])"
   ]
  },
  {
   "cell_type": "code",
   "execution_count": 284,
   "metadata": {},
   "outputs": [
    {
     "data": {
      "text/plain": [
       "93850"
      ]
     },
     "execution_count": 284,
     "metadata": {},
     "output_type": "execute_result"
    }
   ],
   "source": [
    "pd.DataFrame(ted.ratings_list[0])['count'].sum()"
   ]
  },
  {
   "cell_type": "code",
   "execution_count": 286,
   "metadata": {
    "collapsed": true
   },
   "outputs": [
    {
     "data": {
      "text/plain": [
       "0       93850\n",
       "1        2936\n",
       "2        2824\n",
       "3        3728\n",
       "4       25620\n",
       "        ...  \n",
       "2545      192\n",
       "2546      151\n",
       "2547      136\n",
       "2548      583\n",
       "2549      142\n",
       "Name: ratings_list, Length: 2550, dtype: int64"
      ]
     },
     "execution_count": 286,
     "metadata": {},
     "output_type": "execute_result"
    }
   ],
   "source": [
    "ted.ratings_list.apply(lambda x: pd.DataFrame(x)['count'].sum())"
   ]
  },
  {
   "cell_type": "markdown",
   "metadata": {},
   "source": [
    "# Count the total number of ratings received by each talk\n",
    "1. Write your code in small chunks and check your work as you go\n",
    "2. Lambda is only best for simple functions"
   ]
  },
  {
   "cell_type": "markdown",
   "metadata": {},
   "source": [
    "# 8. Which occupations deliver the funniest TED talks on average?"
   ]
  },
  {
   "cell_type": "markdown",
   "metadata": {},
   "source": [
    "Brainstorm:\n",
    "- Scan ratings list for \"Funny\" rating\n",
    "- Count number of \"Funny\" ratings per talk\n",
    "- Group by Occupation, sum \"Funny\" ratings and # of views\n",
    "- Calculate # of \"Funny\" ratings per view (or views per \"Funny\" rating)"
   ]
  },
  {
   "cell_type": "code",
   "execution_count": 366,
   "metadata": {},
   "outputs": [
    {
     "data": {
      "text/plain": [
       "19645"
      ]
     },
     "execution_count": 366,
     "metadata": {},
     "output_type": "execute_result"
    }
   ],
   "source": [
    "# calculate \"funny\" rating count\n",
    "def funny_rating_count(rating_dict):\n",
    "    for rating in rating_dict:\n",
    "        if rating['name'] == 'Funny':\n",
    "            return rating['count']\n",
    "\n",
    "funny_rating_count(ted.ratings_list[0])"
   ]
  },
  {
   "cell_type": "code",
   "execution_count": 367,
   "metadata": {},
   "outputs": [
    {
     "data": {
      "text/plain": [
       "0    19645\n",
       "1      544\n",
       "2      964\n",
       "3       59\n",
       "4     1390\n",
       "Name: funny_ratings, dtype: int64"
      ]
     },
     "execution_count": 367,
     "metadata": {},
     "output_type": "execute_result"
    }
   ],
   "source": [
    "ted['funny_ratings'] = ted.ratings_list.apply(funny_rating_count)\n",
    "ted.funny_ratings.head()"
   ]
  },
  {
   "cell_type": "code",
   "execution_count": 359,
   "metadata": {},
   "outputs": [],
   "source": [
    "ted_funny = ted[['speaker_occupation','views','funny_ratings']].groupby('speaker_occupation').agg(['sum','count'])"
   ]
  },
  {
   "cell_type": "code",
   "execution_count": 360,
   "metadata": {
    "collapsed": true
   },
   "outputs": [
    {
     "data": {
      "text/plain": [
       "speaker_occupation\n",
       " Chairman of the Cordoba Initiative             433202\n",
       " Child protection leader, activist, author      656113\n",
       " Robotics engineer                              375647\n",
       " Space physicist                               1465749\n",
       "3D printer                                     2526255\n",
       "                                                ...   \n",
       "e-Patient                                       534289\n",
       "inventor, engineer                             1415724\n",
       "medical inventor                               1682547\n",
       "photographer + visual artist                   1464877\n",
       "physicist                                       161462\n",
       "Name: sum, Length: 1458, dtype: int64"
      ]
     },
     "execution_count": 360,
     "metadata": {},
     "output_type": "execute_result"
    }
   ],
   "source": [
    "ted_funny.views['sum']"
   ]
  },
  {
   "cell_type": "code",
   "execution_count": 361,
   "metadata": {},
   "outputs": [],
   "source": [
    "ted_funny['views_per_rating'] = ted_funny.views['sum']/ted_funny.funny_ratings['sum']"
   ]
  },
  {
   "cell_type": "code",
   "execution_count": 362,
   "metadata": {
    "collapsed": true
   },
   "outputs": [
    {
     "data": {
      "text/html": [
       "<div>\n",
       "<style scoped>\n",
       "    .dataframe tbody tr th:only-of-type {\n",
       "        vertical-align: middle;\n",
       "    }\n",
       "\n",
       "    .dataframe tbody tr th {\n",
       "        vertical-align: top;\n",
       "    }\n",
       "\n",
       "    .dataframe thead tr th {\n",
       "        text-align: left;\n",
       "    }\n",
       "\n",
       "    .dataframe thead tr:last-of-type th {\n",
       "        text-align: right;\n",
       "    }\n",
       "</style>\n",
       "<table border=\"1\" class=\"dataframe\">\n",
       "  <thead>\n",
       "    <tr>\n",
       "      <th></th>\n",
       "      <th colspan=\"2\" halign=\"left\">views</th>\n",
       "      <th colspan=\"2\" halign=\"left\">funny_ratings</th>\n",
       "      <th>views_per_rating</th>\n",
       "    </tr>\n",
       "    <tr>\n",
       "      <th></th>\n",
       "      <th>sum</th>\n",
       "      <th>count</th>\n",
       "      <th>sum</th>\n",
       "      <th>count</th>\n",
       "      <th></th>\n",
       "    </tr>\n",
       "    <tr>\n",
       "      <th>speaker_occupation</th>\n",
       "      <th></th>\n",
       "      <th></th>\n",
       "      <th></th>\n",
       "      <th></th>\n",
       "      <th></th>\n",
       "    </tr>\n",
       "  </thead>\n",
       "  <tbody>\n",
       "    <tr>\n",
       "      <td>Pranksters</td>\n",
       "      <td>357454</td>\n",
       "      <td>1</td>\n",
       "      <td>735</td>\n",
       "      <td>1</td>\n",
       "      <td>486.331973</td>\n",
       "    </tr>\n",
       "    <tr>\n",
       "      <td>Jugglers</td>\n",
       "      <td>807628</td>\n",
       "      <td>1</td>\n",
       "      <td>1637</td>\n",
       "      <td>1</td>\n",
       "      <td>493.358583</td>\n",
       "    </tr>\n",
       "    <tr>\n",
       "      <td>Author, satirist</td>\n",
       "      <td>473220</td>\n",
       "      <td>1</td>\n",
       "      <td>663</td>\n",
       "      <td>1</td>\n",
       "      <td>713.755656</td>\n",
       "    </tr>\n",
       "    <tr>\n",
       "      <td>Motivational speaker</td>\n",
       "      <td>149818</td>\n",
       "      <td>1</td>\n",
       "      <td>171</td>\n",
       "      <td>1</td>\n",
       "      <td>876.128655</td>\n",
       "    </tr>\n",
       "    <tr>\n",
       "      <td>Artist, designer</td>\n",
       "      <td>306296</td>\n",
       "      <td>1</td>\n",
       "      <td>346</td>\n",
       "      <td>1</td>\n",
       "      <td>885.248555</td>\n",
       "    </tr>\n",
       "    <tr>\n",
       "      <td>...</td>\n",
       "      <td>...</td>\n",
       "      <td>...</td>\n",
       "      <td>...</td>\n",
       "      <td>...</td>\n",
       "      <td>...</td>\n",
       "    </tr>\n",
       "    <tr>\n",
       "      <td>Executive chair, Ford Motor Co.</td>\n",
       "      <td>800056</td>\n",
       "      <td>1</td>\n",
       "      <td>0</td>\n",
       "      <td>1</td>\n",
       "      <td>inf</td>\n",
       "    </tr>\n",
       "    <tr>\n",
       "      <td>Digital archaeologist</td>\n",
       "      <td>539207</td>\n",
       "      <td>1</td>\n",
       "      <td>0</td>\n",
       "      <td>1</td>\n",
       "      <td>inf</td>\n",
       "    </tr>\n",
       "    <tr>\n",
       "      <td>Ethnic conflicts scholar</td>\n",
       "      <td>307628</td>\n",
       "      <td>1</td>\n",
       "      <td>0</td>\n",
       "      <td>1</td>\n",
       "      <td>inf</td>\n",
       "    </tr>\n",
       "    <tr>\n",
       "      <td>Mental health care advocate</td>\n",
       "      <td>933277</td>\n",
       "      <td>1</td>\n",
       "      <td>0</td>\n",
       "      <td>1</td>\n",
       "      <td>inf</td>\n",
       "    </tr>\n",
       "    <tr>\n",
       "      <td>Chairman of the Cordoba Initiative</td>\n",
       "      <td>433202</td>\n",
       "      <td>1</td>\n",
       "      <td>0</td>\n",
       "      <td>1</td>\n",
       "      <td>inf</td>\n",
       "    </tr>\n",
       "  </tbody>\n",
       "</table>\n",
       "<p>1458 rows × 5 columns</p>\n",
       "</div>"
      ],
      "text/plain": [
       "                                      views       funny_ratings        \\\n",
       "                                        sum count           sum count   \n",
       "speaker_occupation                                                      \n",
       "Pranksters                           357454     1           735     1   \n",
       "Jugglers                             807628     1          1637     1   \n",
       "Author, satirist                     473220     1           663     1   \n",
       "Motivational speaker                 149818     1           171     1   \n",
       "Artist, designer                     306296     1           346     1   \n",
       "...                                     ...   ...           ...   ...   \n",
       "Executive chair, Ford Motor Co.      800056     1             0     1   \n",
       "Digital archaeologist                539207     1             0     1   \n",
       "Ethnic conflicts scholar             307628     1             0     1   \n",
       "Mental health care advocate          933277     1             0     1   \n",
       " Chairman of the Cordoba Initiative  433202     1             0     1   \n",
       "\n",
       "                                    views_per_rating  \n",
       "                                                      \n",
       "speaker_occupation                                    \n",
       "Pranksters                                486.331973  \n",
       "Jugglers                                  493.358583  \n",
       "Author, satirist                          713.755656  \n",
       "Motivational speaker                      876.128655  \n",
       "Artist, designer                          885.248555  \n",
       "...                                              ...  \n",
       "Executive chair, Ford Motor Co.                  inf  \n",
       "Digital archaeologist                            inf  \n",
       "Ethnic conflicts scholar                         inf  \n",
       "Mental health care advocate                      inf  \n",
       " Chairman of the Cordoba Initiative              inf  \n",
       "\n",
       "[1458 rows x 5 columns]"
      ]
     },
     "execution_count": 362,
     "metadata": {},
     "output_type": "execute_result"
    }
   ],
   "source": [
    "ted_funny.sort_values('views_per_rating')\n",
    "# funniest occupations: Pranksters, Jugglers, Author/satirist, Motivational speaker, Artist/designer"
   ]
  },
  {
   "cell_type": "code",
   "execution_count": 363,
   "metadata": {
    "collapsed": true
   },
   "outputs": [
    {
     "data": {
      "text/html": [
       "<div>\n",
       "<style scoped>\n",
       "    .dataframe tbody tr th:only-of-type {\n",
       "        vertical-align: middle;\n",
       "    }\n",
       "\n",
       "    .dataframe tbody tr th {\n",
       "        vertical-align: top;\n",
       "    }\n",
       "\n",
       "    .dataframe thead tr th {\n",
       "        text-align: left;\n",
       "    }\n",
       "\n",
       "    .dataframe thead tr:last-of-type th {\n",
       "        text-align: right;\n",
       "    }\n",
       "</style>\n",
       "<table border=\"1\" class=\"dataframe\">\n",
       "  <thead>\n",
       "    <tr>\n",
       "      <th></th>\n",
       "      <th colspan=\"2\" halign=\"left\">views</th>\n",
       "      <th colspan=\"2\" halign=\"left\">funny_ratings</th>\n",
       "      <th>views_per_rating</th>\n",
       "    </tr>\n",
       "    <tr>\n",
       "      <th></th>\n",
       "      <th>sum</th>\n",
       "      <th>count</th>\n",
       "      <th>sum</th>\n",
       "      <th>count</th>\n",
       "      <th></th>\n",
       "    </tr>\n",
       "    <tr>\n",
       "      <th>speaker_occupation</th>\n",
       "      <th></th>\n",
       "      <th></th>\n",
       "      <th></th>\n",
       "      <th></th>\n",
       "      <th></th>\n",
       "    </tr>\n",
       "  </thead>\n",
       "  <tbody>\n",
       "    <tr>\n",
       "      <td>Data scientist</td>\n",
       "      <td>7483332</td>\n",
       "      <td>5</td>\n",
       "      <td>6098</td>\n",
       "      <td>5</td>\n",
       "      <td>1227.178091</td>\n",
       "    </tr>\n",
       "    <tr>\n",
       "      <td>Comedian</td>\n",
       "      <td>18606732</td>\n",
       "      <td>6</td>\n",
       "      <td>11034</td>\n",
       "      <td>6</td>\n",
       "      <td>1686.308864</td>\n",
       "    </tr>\n",
       "    <tr>\n",
       "      <td>Advertising guru</td>\n",
       "      <td>6311720</td>\n",
       "      <td>3</td>\n",
       "      <td>3535</td>\n",
       "      <td>3</td>\n",
       "      <td>1785.493635</td>\n",
       "    </tr>\n",
       "    <tr>\n",
       "      <td>Producer</td>\n",
       "      <td>3894119</td>\n",
       "      <td>5</td>\n",
       "      <td>1988</td>\n",
       "      <td>5</td>\n",
       "      <td>1958.812374</td>\n",
       "    </tr>\n",
       "    <tr>\n",
       "      <td>Performance poet, multimedia artist</td>\n",
       "      <td>9988660</td>\n",
       "      <td>6</td>\n",
       "      <td>5073</td>\n",
       "      <td>6</td>\n",
       "      <td>1968.984822</td>\n",
       "    </tr>\n",
       "    <tr>\n",
       "      <td>...</td>\n",
       "      <td>...</td>\n",
       "      <td>...</td>\n",
       "      <td>...</td>\n",
       "      <td>...</td>\n",
       "      <td>...</td>\n",
       "    </tr>\n",
       "    <tr>\n",
       "      <td>Biologist, genetics pioneer</td>\n",
       "      <td>2652154</td>\n",
       "      <td>3</td>\n",
       "      <td>16</td>\n",
       "      <td>3</td>\n",
       "      <td>165759.625000</td>\n",
       "    </tr>\n",
       "    <tr>\n",
       "      <td>Physician</td>\n",
       "      <td>5351632</td>\n",
       "      <td>5</td>\n",
       "      <td>29</td>\n",
       "      <td>5</td>\n",
       "      <td>184539.034483</td>\n",
       "    </tr>\n",
       "    <tr>\n",
       "      <td>Biomedical engineer</td>\n",
       "      <td>2594322</td>\n",
       "      <td>3</td>\n",
       "      <td>14</td>\n",
       "      <td>3</td>\n",
       "      <td>185308.714286</td>\n",
       "    </tr>\n",
       "    <tr>\n",
       "      <td>Surgeon</td>\n",
       "      <td>8678763</td>\n",
       "      <td>5</td>\n",
       "      <td>35</td>\n",
       "      <td>5</td>\n",
       "      <td>247964.657143</td>\n",
       "    </tr>\n",
       "    <tr>\n",
       "      <td>Geneticist</td>\n",
       "      <td>4710386</td>\n",
       "      <td>3</td>\n",
       "      <td>17</td>\n",
       "      <td>3</td>\n",
       "      <td>277081.529412</td>\n",
       "    </tr>\n",
       "  </tbody>\n",
       "</table>\n",
       "<p>148 rows × 5 columns</p>\n",
       "</div>"
      ],
      "text/plain": [
       "                                        views       funny_ratings        \\\n",
       "                                          sum count           sum count   \n",
       "speaker_occupation                                                        \n",
       "Data scientist                        7483332     5          6098     5   \n",
       "Comedian                             18606732     6         11034     6   \n",
       "Advertising guru                      6311720     3          3535     3   \n",
       "Producer                              3894119     5          1988     5   \n",
       "Performance poet, multimedia artist   9988660     6          5073     6   \n",
       "...                                       ...   ...           ...   ...   \n",
       "Biologist, genetics pioneer           2652154     3            16     3   \n",
       "Physician                             5351632     5            29     5   \n",
       "Biomedical engineer                   2594322     3            14     3   \n",
       "Surgeon                               8678763     5            35     5   \n",
       "Geneticist                            4710386     3            17     3   \n",
       "\n",
       "                                    views_per_rating  \n",
       "                                                      \n",
       "speaker_occupation                                    \n",
       "Data scientist                           1227.178091  \n",
       "Comedian                                 1686.308864  \n",
       "Advertising guru                         1785.493635  \n",
       "Producer                                 1958.812374  \n",
       "Performance poet, multimedia artist      1968.984822  \n",
       "...                                              ...  \n",
       "Biologist, genetics pioneer            165759.625000  \n",
       "Physician                              184539.034483  \n",
       "Biomedical engineer                    185308.714286  \n",
       "Surgeon                                247964.657143  \n",
       "Geneticist                             277081.529412  \n",
       "\n",
       "[148 rows x 5 columns]"
      ]
     },
     "execution_count": 363,
     "metadata": {},
     "output_type": "execute_result"
    }
   ],
   "source": [
    "ted_funny.loc[ted_funny.views['count']>=3].sort_values('views_per_rating')\n",
    "# funniest occupations with at least n=3: Data scientist, Comedian, Advertising guru, Producer, Performance poet/multimedia artist"
   ]
  },
  {
   "cell_type": "markdown",
   "metadata": {},
   "source": [
    "# Provided Solution:"
   ]
  },
  {
   "cell_type": "code",
   "execution_count": 386,
   "metadata": {},
   "outputs": [
    {
     "data": {
      "text/plain": [
       "True    2550\n",
       "Name: ratings, dtype: int64"
      ]
     },
     "execution_count": 386,
     "metadata": {},
     "output_type": "execute_result"
    }
   ],
   "source": [
    "# 1. let's check if every rating list contains a \"Funny\" rating in the first place\n",
    "ted.ratings.apply(lambda x: 'Funny' in x).value_counts()   # apply function\n",
    "ted.ratings.str.contains('Funny').value_counts()   # Series method: str.contains()\n",
    "\n",
    "# all contain a \"Funny\" rating"
   ]
  },
  {
   "cell_type": "code",
   "execution_count": 395,
   "metadata": {
    "collapsed": true
   },
   "outputs": [
    {
     "data": {
      "text/plain": [
       "1849                       Science humorist\n",
       "337                                Comedian\n",
       "124     Performance poet, multimedia artist\n",
       "315                                  Expert\n",
       "1168             Social energy entrepreneur\n",
       "1468                          Ornithologist\n",
       "595                  Comedian, voice artist\n",
       "1534                         Cartoon editor\n",
       "97                                 Satirist\n",
       "2297                          Actor, writer\n",
       "568                                Comedian\n",
       "675                          Data scientist\n",
       "21                     Humorist, web artist\n",
       "194                                Jugglers\n",
       "2273                    Comedian and writer\n",
       "2114                    Comedian and writer\n",
       "173                                Investor\n",
       "747                                Comedian\n",
       "1398                               Comedian\n",
       "685             Actor, comedian, playwright\n",
       "Name: speaker_occupation, dtype: object"
      ]
     },
     "execution_count": 395,
     "metadata": {},
     "output_type": "execute_result"
    }
   ],
   "source": [
    "# 2. calculate the percentage of ratings that are funny\n",
    "ted['funny_rate'] = ted.funny_ratings / ted.num_ratings\n",
    "ted.sort_values('funny_rate').speaker_occupation.tail(20)\n",
    "# the occupations of the 'funniest' talks"
   ]
  },
  {
   "cell_type": "code",
   "execution_count": 408,
   "metadata": {},
   "outputs": [
    {
     "data": {
      "text/plain": [
       "speaker_occupation\n",
       "Comedian                       0.512457\n",
       "Actor, writer                  0.515152\n",
       "Actor, comedian, playwright    0.558107\n",
       "Jugglers                       0.566828\n",
       "Comedian and writer            0.602085\n",
       "Name: funny_rate, dtype: float64"
      ]
     },
     "execution_count": 408,
     "metadata": {},
     "output_type": "execute_result"
    }
   ],
   "source": [
    "# 3. Analyze the funny rate by occupation. Find the mean funny_rate by occupation\n",
    "ted.groupby('speaker_occupation').funny_rate.mean().sort_values().tail()"
   ]
  },
  {
   "cell_type": "code",
   "execution_count": 416,
   "metadata": {},
   "outputs": [
    {
     "data": {
      "text/plain": [
       "count       2544\n",
       "unique      1458\n",
       "top       Writer\n",
       "freq          45\n",
       "Name: speaker_occupation, dtype: object"
      ]
     },
     "execution_count": 416,
     "metadata": {},
     "output_type": "execute_result"
    }
   ],
   "source": [
    "# investigate speaker_occupation field for count, unique, top category, count of top category\n",
    "ted.speaker_occupation.describe()\n",
    "\n",
    "# there are a lot of occupations with only 1 talk. small sample size."
   ]
  },
  {
   "cell_type": "code",
   "execution_count": 423,
   "metadata": {
    "collapsed": true
   },
   "outputs": [
    {
     "data": {
      "text/plain": [
       "Index(['Writer', 'Designer', 'Artist', 'Journalist', 'Entrepreneur',\n",
       "       'Architect', 'Inventor', 'Psychologist', 'Photographer', 'Filmmaker',\n",
       "       'Neuroscientist', 'Author', 'Educator', 'Economist', 'Roboticist',\n",
       "       'Philosopher', 'Biologist', 'Physicist', 'Musician', 'Marine biologist',\n",
       "       'Global health expert; data visionary', 'Activist', 'Technologist',\n",
       "       'Behavioral economist', 'Singer/songwriter', 'Oceanographer', 'Poet',\n",
       "       'Graphic designer', 'Historian', 'Philanthropist', 'Astronomer',\n",
       "       'Futurist', 'Engineer', 'Novelist', 'Computer scientist',\n",
       "       'Social psychologist', 'Mathematician', 'Astrophysicist',\n",
       "       'Performance poet, multimedia artist', 'Climate advocate',\n",
       "       'Writer, activist', 'Comedian', 'Techno-illusionist',\n",
       "       'Social entrepreneur', 'Legal activist', 'Evolutionary biologist',\n",
       "       'Photojournalist', 'Reporter', 'Singer-songwriter', 'Game designer',\n",
       "       'Data scientist', 'Chef', 'Musician, activist', 'Science writer',\n",
       "       'Sculptor', 'Environmentalist, futurist', 'Cartoonist', 'Physician',\n",
       "       'Surgeon', 'Investor and advocate for moral leadership',\n",
       "       'Paleontologist', 'Social Media Theorist', 'Researcher',\n",
       "       'Sound consultant', 'Tech visionary', 'Violinist', 'Chemist',\n",
       "       'Producer'],\n",
       "      dtype='object')"
      ]
     },
     "execution_count": 423,
     "metadata": {},
     "output_type": "execute_result"
    }
   ],
   "source": [
    "# 4. Focus on occupations that are well-represented in the data\n",
    "occupation_counts = ted.speaker_occupation.value_counts() # pandas series\n",
    "top_occupations = occupation_counts[occupation_counts >= 5].index\n",
    "top_occupations"
   ]
  },
  {
   "cell_type": "code",
   "execution_count": 428,
   "metadata": {},
   "outputs": [],
   "source": [
    "ted_top_occupations = ted.loc[ted.speaker_occupation.isin(top_occupations)]\n",
    "# .isin() function returns boolean array T/F if each element in series contains element specified"
   ]
  },
  {
   "cell_type": "code",
   "execution_count": 430,
   "metadata": {},
   "outputs": [
    {
     "data": {
      "text/plain": [
       "(786, 24)"
      ]
     },
     "execution_count": 430,
     "metadata": {},
     "output_type": "execute_result"
    }
   ],
   "source": [
    "ted_top_occupations.shape # only includes talks by occupations represented at least 5 times"
   ]
  },
  {
   "cell_type": "code",
   "execution_count": 432,
   "metadata": {},
   "outputs": [
    {
     "data": {
      "text/plain": [
       "speaker_occupation\n",
       "Data scientist                         0.184076\n",
       "Producer                               0.202531\n",
       "Singer/songwriter                      0.252205\n",
       "Performance poet, multimedia artist    0.306468\n",
       "Comedian                               0.512457\n",
       "Name: funny_rate, dtype: float64"
      ]
     },
     "execution_count": 432,
     "metadata": {},
     "output_type": "execute_result"
    }
   ],
   "source": [
    "# re-do top-occupations groupby()\n",
    "ted_top_occupations.groupby('speaker_occupation').funny_rate.mean().sort_values().tail()"
   ]
  },
  {
   "cell_type": "markdown",
   "metadata": {},
   "source": [
    "# Weaknesses of approach:\n",
    "- 5 is still a small sample size\n",
    "- Some of these occupations are represented by a single person (i.e. 'Performance poet, multimedia artist'). Doesn't reflect occupation as a whole.\n",
    "- The segmentation of occupation contain overlap/specific spelling. Would need cleaning into more general categories.\n",
    "    - Option would be to split multiple occupations into separate categories. Count as 1 for each occupation.\n",
    "    "
   ]
  },
  {
   "cell_type": "markdown",
   "metadata": {},
   "source": [
    "# Which occupations deliver the funniest TED talks on average?\n",
    "1. Check your assumptions about your data\n",
    "    - Assume 'funny' is always in rating data, also first position in dict list.\n",
    "2. Check for reasonable results\n",
    "    - Check whether results align with natural human intuition. \"Are these occupations 'funny?'\"\n",
    "3. Take advantage of the fact that pandas operations often output a DataFrame or a Series\n",
    "    - You can do a lot of chaining of methods, and manipulate the output\n",
    "    - You can do manipulation on the output, not just the input\n",
    "4. Watch out for small sample sizes\n",
    "    - i.e.) when aggregating, keep track of counts of records in each aggregation\n",
    "5. Consider the impact of missing data\n",
    "    - most pandas operations will ignore missing values\n",
    "6. Data scientists are hilarious ;)"
   ]
  },
  {
   "cell_type": "code",
   "execution_count": null,
   "metadata": {},
   "outputs": [],
   "source": []
  }
 ],
 "metadata": {
  "kernelspec": {
   "display_name": "Python 3",
   "language": "python",
   "name": "python3"
  },
  "language_info": {
   "codemirror_mode": {
    "name": "ipython",
    "version": 3
   },
   "file_extension": ".py",
   "mimetype": "text/x-python",
   "name": "python",
   "nbconvert_exporter": "python",
   "pygments_lexer": "ipython3",
   "version": "3.6.9"
  }
 },
 "nbformat": 4,
 "nbformat_minor": 2
}
